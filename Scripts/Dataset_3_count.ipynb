{
 "cells": [
  {
   "cell_type": "code",
   "execution_count": 1,
   "metadata": {},
   "outputs": [],
   "source": [
    "import pandas as pd\n",
    "import json\n",
    "import numpy as np"
   ]
  },
  {
   "cell_type": "code",
   "execution_count": 2,
   "metadata": {
    "scrolled": false
   },
   "outputs": [
    {
     "data": {
      "text/html": [
       "<div>\n",
       "<style scoped>\n",
       "    .dataframe tbody tr th:only-of-type {\n",
       "        vertical-align: middle;\n",
       "    }\n",
       "\n",
       "    .dataframe tbody tr th {\n",
       "        vertical-align: top;\n",
       "    }\n",
       "\n",
       "    .dataframe thead th {\n",
       "        text-align: right;\n",
       "    }\n",
       "</style>\n",
       "<table border=\"1\" class=\"dataframe\">\n",
       "  <thead>\n",
       "    <tr style=\"text-align: right;\">\n",
       "      <th></th>\n",
       "      <th>Dst Port</th>\n",
       "      <th>Protocol</th>\n",
       "      <th>Timestamp</th>\n",
       "      <th>Label</th>\n",
       "      <th>date</th>\n",
       "      <th>id</th>\n",
       "    </tr>\n",
       "  </thead>\n",
       "  <tbody>\n",
       "    <tr>\n",
       "      <th>0</th>\n",
       "      <td>22</td>\n",
       "      <td>6</td>\n",
       "      <td>22/02/2018 08:26:03</td>\n",
       "      <td>Benign</td>\n",
       "      <td>2018-02-22 08:26:03</td>\n",
       "      <td>2018-02-22 08:26:036</td>\n",
       "    </tr>\n",
       "    <tr>\n",
       "      <th>1</th>\n",
       "      <td>34989</td>\n",
       "      <td>6</td>\n",
       "      <td>22/02/2018 08:26:24</td>\n",
       "      <td>Benign</td>\n",
       "      <td>2018-02-22 08:26:24</td>\n",
       "      <td>2018-02-22 08:26:246</td>\n",
       "    </tr>\n",
       "    <tr>\n",
       "      <th>2</th>\n",
       "      <td>500</td>\n",
       "      <td>17</td>\n",
       "      <td>22/02/2018 08:25:10</td>\n",
       "      <td>Benign</td>\n",
       "      <td>2018-02-22 08:25:10</td>\n",
       "      <td>2018-02-22 08:25:1017</td>\n",
       "    </tr>\n",
       "    <tr>\n",
       "      <th>3</th>\n",
       "      <td>500</td>\n",
       "      <td>17</td>\n",
       "      <td>22/02/2018 08:25:10</td>\n",
       "      <td>Benign</td>\n",
       "      <td>2018-02-22 08:25:10</td>\n",
       "      <td>2018-02-22 08:25:1017</td>\n",
       "    </tr>\n",
       "    <tr>\n",
       "      <th>4</th>\n",
       "      <td>500</td>\n",
       "      <td>17</td>\n",
       "      <td>22/02/2018 08:24:59</td>\n",
       "      <td>Benign</td>\n",
       "      <td>2018-02-22 08:24:59</td>\n",
       "      <td>2018-02-22 08:24:5917</td>\n",
       "    </tr>\n",
       "    <tr>\n",
       "      <th>...</th>\n",
       "      <td>...</td>\n",
       "      <td>...</td>\n",
       "      <td>...</td>\n",
       "      <td>...</td>\n",
       "      <td>...</td>\n",
       "      <td>...</td>\n",
       "    </tr>\n",
       "    <tr>\n",
       "      <th>2097145</th>\n",
       "      <td>54116</td>\n",
       "      <td>6</td>\n",
       "      <td>23/02/2018 09:00:54</td>\n",
       "      <td>Benign</td>\n",
       "      <td>2018-02-23 09:00:54</td>\n",
       "      <td>2018-02-23 09:00:546</td>\n",
       "    </tr>\n",
       "    <tr>\n",
       "      <th>2097146</th>\n",
       "      <td>33914</td>\n",
       "      <td>6</td>\n",
       "      <td>23/02/2018 12:31:42</td>\n",
       "      <td>Benign</td>\n",
       "      <td>2018-02-23 12:31:42</td>\n",
       "      <td>2018-02-23 12:31:426</td>\n",
       "    </tr>\n",
       "    <tr>\n",
       "      <th>2097147</th>\n",
       "      <td>53</td>\n",
       "      <td>17</td>\n",
       "      <td>23/02/2018 12:15:24</td>\n",
       "      <td>Benign</td>\n",
       "      <td>2018-02-23 12:15:24</td>\n",
       "      <td>2018-02-23 12:15:2417</td>\n",
       "    </tr>\n",
       "    <tr>\n",
       "      <th>2097148</th>\n",
       "      <td>3389</td>\n",
       "      <td>6</td>\n",
       "      <td>23/02/2018 12:45:39</td>\n",
       "      <td>Benign</td>\n",
       "      <td>2018-02-23 12:45:39</td>\n",
       "      <td>2018-02-23 12:45:396</td>\n",
       "    </tr>\n",
       "    <tr>\n",
       "      <th>2097149</th>\n",
       "      <td>445</td>\n",
       "      <td>6</td>\n",
       "      <td>23/02/2018 09:04:11</td>\n",
       "      <td>Benign</td>\n",
       "      <td>2018-02-23 09:04:11</td>\n",
       "      <td>2018-02-23 09:04:116</td>\n",
       "    </tr>\n",
       "  </tbody>\n",
       "</table>\n",
       "<p>2097150 rows × 6 columns</p>\n",
       "</div>"
      ],
      "text/plain": [
       "         Dst Port  Protocol            Timestamp   Label                 date  \\\n",
       "0              22         6  22/02/2018 08:26:03  Benign  2018-02-22 08:26:03   \n",
       "1           34989         6  22/02/2018 08:26:24  Benign  2018-02-22 08:26:24   \n",
       "2             500        17  22/02/2018 08:25:10  Benign  2018-02-22 08:25:10   \n",
       "3             500        17  22/02/2018 08:25:10  Benign  2018-02-22 08:25:10   \n",
       "4             500        17  22/02/2018 08:24:59  Benign  2018-02-22 08:24:59   \n",
       "...           ...       ...                  ...     ...                  ...   \n",
       "2097145     54116         6  23/02/2018 09:00:54  Benign  2018-02-23 09:00:54   \n",
       "2097146     33914         6  23/02/2018 12:31:42  Benign  2018-02-23 12:31:42   \n",
       "2097147        53        17  23/02/2018 12:15:24  Benign  2018-02-23 12:15:24   \n",
       "2097148      3389         6  23/02/2018 12:45:39  Benign  2018-02-23 12:45:39   \n",
       "2097149       445         6  23/02/2018 09:04:11  Benign  2018-02-23 09:04:11   \n",
       "\n",
       "                            id  \n",
       "0         2018-02-22 08:26:036  \n",
       "1         2018-02-22 08:26:246  \n",
       "2        2018-02-22 08:25:1017  \n",
       "3        2018-02-22 08:25:1017  \n",
       "4        2018-02-22 08:24:5917  \n",
       "...                        ...  \n",
       "2097145   2018-02-23 09:00:546  \n",
       "2097146   2018-02-23 12:31:426  \n",
       "2097147  2018-02-23 12:15:2417  \n",
       "2097148   2018-02-23 12:45:396  \n",
       "2097149   2018-02-23 09:04:116  \n",
       "\n",
       "[2097150 rows x 6 columns]"
      ]
     },
     "execution_count": 2,
     "metadata": {},
     "output_type": "execute_result"
    }
   ],
   "source": [
    "df_Label = pd.read_csv('/home/exp-1/Desktop/data/ds3_labels.csv', sep=r'\\s*,\\s*', header=0, encoding='cp1252', engine='python')\n",
    "df_Label.dropna()"
   ]
  },
  {
   "cell_type": "code",
   "execution_count": 3,
   "metadata": {},
   "outputs": [
    {
     "name": "stdout",
     "output_type": "stream",
     "text": [
      "         Dst Port  Protocol            Timestamp   Label                 date  \\\n",
      "0              22         6  22/02/2018 08:26:03  Benign  2018-02-22 08:26:03   \n",
      "1           34989         6  22/02/2018 08:26:24  Benign  2018-02-22 08:26:24   \n",
      "2             500        17  22/02/2018 08:25:10  Benign  2018-02-22 08:25:10   \n",
      "3             500        17  22/02/2018 08:25:10  Benign  2018-02-22 08:25:10   \n",
      "4             500        17  22/02/2018 08:24:59  Benign  2018-02-22 08:24:59   \n",
      "...           ...       ...                  ...     ...                  ...   \n",
      "2097145     54116         6  23/02/2018 09:00:54  Benign  2018-02-23 09:00:54   \n",
      "2097146     33914         6  23/02/2018 12:31:42  Benign  2018-02-23 12:31:42   \n",
      "2097147        53        17  23/02/2018 12:15:24  Benign  2018-02-23 12:15:24   \n",
      "2097148      3389         6  23/02/2018 12:45:39  Benign  2018-02-23 12:45:39   \n",
      "2097149       445         6  23/02/2018 09:04:11  Benign  2018-02-23 09:04:11   \n",
      "\n",
      "                            id  \n",
      "0         2018-02-22 08:26:036  \n",
      "1         2018-02-22 08:26:246  \n",
      "2        2018-02-22 08:25:1017  \n",
      "3        2018-02-22 08:25:1017  \n",
      "4        2018-02-22 08:24:5917  \n",
      "...                        ...  \n",
      "2097145   2018-02-23 09:00:546  \n",
      "2097146   2018-02-23 12:31:426  \n",
      "2097147  2018-02-23 12:15:2417  \n",
      "2097148   2018-02-23 12:45:396  \n",
      "2097149   2018-02-23 09:04:116  \n",
      "\n",
      "[2097150 rows x 6 columns]\n"
     ]
    }
   ],
   "source": [
    "print(df_Label)"
   ]
  },
  {
   "cell_type": "code",
   "execution_count": 6,
   "metadata": {},
   "outputs": [
    {
     "data": {
      "text/plain": [
       "2018-02-22 08:28:006     385\n",
       "2018-02-22 08:28:336     372\n",
       "2018-02-23 10:18:006     334\n",
       "2018-02-22 10:25:506     331\n",
       "2018-02-22 08:32:146     313\n",
       "                        ... \n",
       "2018-02-23 12:35:580       1\n",
       "2018-02-22 08:52:200       1\n",
       "2018-02-23 04:32:050       1\n",
       "2018-02-23 12:30:200       1\n",
       "2018-02-23 04:07:2617      1\n",
       "Name: id, Length: 132535, dtype: int64"
      ]
     },
     "execution_count": 6,
     "metadata": {},
     "output_type": "execute_result"
    }
   ],
   "source": [
    "df_Label['id'].value_counts()"
   ]
  },
  {
   "cell_type": "code",
   "execution_count": 7,
   "metadata": {},
   "outputs": [
    {
     "data": {
      "text/plain": [
       "Benign              2096222\n",
       "Brute Force -Web        611\n",
       "Brute Force -XSS        230\n",
       "SQL Injection            87\n",
       "Name: Label, dtype: int64"
      ]
     },
     "execution_count": 7,
     "metadata": {},
     "output_type": "execute_result"
    }
   ],
   "source": [
    "df_Label['Label'].value_counts()"
   ]
  },
  {
   "cell_type": "code",
   "execution_count": 49,
   "metadata": {},
   "outputs": [],
   "source": [
    "import json\n",
    "Alerts = []\n",
    "for line in open('/home/exp-1/Desktop/data/Alerts/Snort_dataset_3/snort_18.json', 'r'):\n",
    "    Alerts.append(json.loads(line))"
   ]
  },
  {
   "cell_type": "code",
   "execution_count": 50,
   "metadata": {},
   "outputs": [],
   "source": [
    "df_alerts = pd.json_normalize(Alerts)"
   ]
  },
  {
   "cell_type": "code",
   "execution_count": null,
   "metadata": {},
   "outputs": [],
   "source": []
  },
  {
   "cell_type": "code",
   "execution_count": 51,
   "metadata": {},
   "outputs": [],
   "source": [
    "col_list = ['event.source-ip','event.destination-ip','event.sport-itype','event.dport-icode','event.protocol','event.event-second','event.event-microsecond']\n",
    "df_alerts = df_alerts[col_list].dropna()"
   ]
  },
  {
   "cell_type": "code",
   "execution_count": null,
   "metadata": {},
   "outputs": [],
   "source": []
  },
  {
   "cell_type": "code",
   "execution_count": 52,
   "metadata": {},
   "outputs": [],
   "source": [
    "df_alerts['date'] = pd.to_datetime(df_alerts['event.event-second'], unit='s').dropna()"
   ]
  },
  {
   "cell_type": "code",
   "execution_count": 53,
   "metadata": {},
   "outputs": [],
   "source": [
    "df_alerts['id_count']= df_alerts['date'].astype(str)+df_alerts['event.protocol'].astype(int).astype(str)"
   ]
  },
  {
   "cell_type": "code",
   "execution_count": 54,
   "metadata": {},
   "outputs": [],
   "source": [
    "df_alerts['id']=df_alerts['event.source-ip']+'-'+df_alerts['event.destination-ip']+'-'+df_alerts['event.sport-itype'].astype(int).astype(str)+'-'+df_alerts['event.dport-icode'].astype(int).astype(str)"
   ]
  },
  {
   "cell_type": "code",
   "execution_count": 61,
   "metadata": {},
   "outputs": [
    {
     "data": {
      "text/plain": [
       "78.158.196.78-172.31.66.42-57982-445       87\n",
       "222.186.46.26-172.31.66.62-1365-135        17\n",
       "222.186.46.26-172.31.64.67-3628-135        11\n",
       "180.248.12.14-172.31.67.50-58837-445       10\n",
       "103.218.3.30-172.31.67.119-3612-135         8\n",
       "                                           ..\n",
       "1.171.88.240-172.31.65.81-55558-445         1\n",
       "213.202.230.37-172.31.67.10-2780-3389       1\n",
       "213.202.230.206-172.31.66.41-21005-3389     1\n",
       "213.202.230.143-172.31.67.80-35954-3389     1\n",
       "213.202.230.217-172.31.65.29-37853-3389     1\n",
       "Name: id, Length: 282797, dtype: int64"
      ]
     },
     "execution_count": 61,
     "metadata": {},
     "output_type": "execute_result"
    }
   ],
   "source": [
    "df_alerts['id'].value_counts()"
   ]
  },
  {
   "cell_type": "code",
   "execution_count": 56,
   "metadata": {},
   "outputs": [],
   "source": [
    "#df_alerts = df_alerts.drop_duplicates(subset = 'id_count', keep = 'first')"
   ]
  },
  {
   "cell_type": "code",
   "execution_count": 57,
   "metadata": {},
   "outputs": [],
   "source": [
    "df_alerts['POSITIVES'] = (df_alerts['id_count'].isin(df_Label['id'])) & (df_Label['Label']!='Benign')"
   ]
  },
  {
   "cell_type": "code",
   "execution_count": 58,
   "metadata": {},
   "outputs": [
    {
     "data": {
      "text/plain": [
       "False    286825\n",
       "True        362\n",
       "Name: POSITIVES, dtype: int64"
      ]
     },
     "execution_count": 58,
     "metadata": {},
     "output_type": "execute_result"
    }
   ],
   "source": [
    "df_alerts['POSITIVES'].value_counts()"
   ]
  },
  {
   "cell_type": "code",
   "execution_count": null,
   "metadata": {},
   "outputs": [],
   "source": []
  },
  {
   "cell_type": "code",
   "execution_count": 59,
   "metadata": {},
   "outputs": [],
   "source": [
    "df_Label_1 = df_Label.drop(df_alerts['id_count'].isin(df_Label['id']).index)"
   ]
  },
  {
   "cell_type": "code",
   "execution_count": 60,
   "metadata": {},
   "outputs": [
    {
     "data": {
      "text/plain": [
       "Benign              1809397\n",
       "Brute Force -Web        362\n",
       "Brute Force -XSS        151\n",
       "SQL Injection            53\n",
       "Name: Label, dtype: int64"
      ]
     },
     "execution_count": 60,
     "metadata": {},
     "output_type": "execute_result"
    }
   ],
   "source": [
    "df_Label_1['Label'].value_counts()"
   ]
  },
  {
   "cell_type": "code",
   "execution_count": null,
   "metadata": {},
   "outputs": [],
   "source": []
  },
  {
   "cell_type": "code",
   "execution_count": 3,
   "metadata": {},
   "outputs": [],
   "source": [
    "import pandas as pd"
   ]
  },
  {
   "cell_type": "code",
   "execution_count": 18,
   "metadata": {},
   "outputs": [],
   "source": [
    "#df_alerts.to_csv('/home/exp-1/Desktop/data/alerts_processed/Snort_19_1_labels.csv')"
   ]
  },
  {
   "cell_type": "code",
   "execution_count": 7,
   "metadata": {},
   "outputs": [],
   "source": [
    "df_s=pd.read_csv('/home/exp-1/Desktop/data/Alerts/Alerts_csv/ds2_snort/2019.csv')"
   ]
  },
  {
   "cell_type": "code",
   "execution_count": 8,
   "metadata": {},
   "outputs": [
    {
     "name": "stdout",
     "output_type": "stream",
     "text": [
      "      event.source-ip event.destination-ip  event.sport-itype  \\\n",
      "0        192.168.10.3        192.168.10.19               88.0   \n",
      "1        192.168.10.3        192.168.10.19               88.0   \n",
      "2        192.168.10.3        192.168.10.19               88.0   \n",
      "3        192.168.10.3        192.168.10.19               88.0   \n",
      "4        192.168.10.3        192.168.10.19               88.0   \n",
      "...               ...                  ...                ...   \n",
      "29904   68.67.178.196        192.168.10.14               80.0   \n",
      "29905   192.168.10.14        74.119.118.82            51633.0   \n",
      "29906   192.168.10.15        38.72.130.155            61245.0   \n",
      "29907   74.119.118.74        192.168.10.51               80.0   \n",
      "29908   68.67.178.110         192.168.10.8               80.0   \n",
      "\n",
      "       event.dport-icode  event.protocol  event.event-second  \\\n",
      "0                41567.0             6.0        1.499342e+09   \n",
      "1                41567.0             6.0        1.499342e+09   \n",
      "2                41569.0             6.0        1.499342e+09   \n",
      "3                41569.0             6.0        1.499342e+09   \n",
      "4                41574.0             6.0        1.499342e+09   \n",
      "...                  ...             ...                 ...   \n",
      "29904            51631.0             6.0        1.499370e+09   \n",
      "29905               80.0             6.0        1.499370e+09   \n",
      "29906               80.0             6.0        1.499370e+09   \n",
      "29907            44693.0             6.0        1.499370e+09   \n",
      "29908             1944.0             6.0        1.499370e+09   \n",
      "\n",
      "       event.event-microsecond  \\\n",
      "0                     231479.0   \n",
      "1                     231480.0   \n",
      "2                     274589.0   \n",
      "3                     274590.0   \n",
      "4                     614108.0   \n",
      "...                        ...   \n",
      "29904                  62132.0   \n",
      "29905                  48982.0   \n",
      "29906                 903785.0   \n",
      "29907                  94649.0   \n",
      "29908                 548910.0   \n",
      "\n",
      "                                               event.msg  event.signature-id  \\\n",
      "0                          stream5: Reset outside window                15.0   \n",
      "1                          stream5: Reset outside window                15.0   \n",
      "2                          stream5: Reset outside window                15.0   \n",
      "3                          stream5: Reset outside window                15.0   \n",
      "4                          stream5: Reset outside window                15.0   \n",
      "...                                                  ...                 ...   \n",
      "29904  http_inspect: NO CONTENT-LENGTH OR TRANSFER-EN...                 3.0   \n",
      "29905                          http_inspect: LONG HEADER                19.0   \n",
      "29906                          http_inspect: LONG HEADER                19.0   \n",
      "29907  http_inspect: NO CONTENT-LENGTH OR TRANSFER-EN...                 3.0   \n",
      "29908  http_inspect: NO CONTENT-LENGTH OR TRANSFER-EN...                 3.0   \n",
      "\n",
      "                      date                                                 id  \n",
      "0      2017-07-06 12:00:43  192.168.10.3-192.168.10.19-88-41567-2017-07-06...  \n",
      "1      2017-07-06 12:00:43  192.168.10.3-192.168.10.19-88-41567-2017-07-06...  \n",
      "2      2017-07-06 12:00:43  192.168.10.3-192.168.10.19-88-41569-2017-07-06...  \n",
      "3      2017-07-06 12:00:43  192.168.10.3-192.168.10.19-88-41569-2017-07-06...  \n",
      "4      2017-07-06 12:00:44  192.168.10.3-192.168.10.19-88-41574-2017-07-06...  \n",
      "...                    ...                                                ...  \n",
      "29904  2017-07-06 19:47:02  68.67.178.196-192.168.10.14-80-51631-2017-07-0...  \n",
      "29905  2017-07-06 19:47:00  192.168.10.14-74.119.118.82-51633-80-2017-07-0...  \n",
      "29906  2017-07-06 19:43:52  192.168.10.15-38.72.130.155-61245-80-2017-07-0...  \n",
      "29907  2017-07-06 19:42:55  74.119.118.74-192.168.10.51-80-44693-2017-07-0...  \n",
      "29908  2017-07-06 19:34:21  68.67.178.110-192.168.10.8-80-1944-2017-07-06 ...  \n",
      "\n",
      "[29909 rows x 11 columns]\n"
     ]
    }
   ],
   "source": [
    "print(df_s)"
   ]
  },
  {
   "cell_type": "code",
   "execution_count": 9,
   "metadata": {},
   "outputs": [
    {
     "data": {
      "text/plain": [
       "stream5: Reset outside window                                                10937\n",
       "http_inspect: UNKNOWN METHOD                                                  7983\n",
       "stream5: TCP Small Segment Threshold Exceeded                                 4434\n",
       "http_inspect: NO CONTENT-LENGTH OR TRANSFER-ENCODING IN HTTP RESPONSE         2852\n",
       "http_inspect: LONG HEADER                                                     1402\n",
       "sensitive_data: sensitive data global threshold exceeded                      1091\n",
       "stream5: Bad segment, overlap adjusted size less than/equal 0                  503\n",
       "sensitive_data: sensitive data - eMail addresses                               154\n",
       "stream5: TCP Timestamp is missing                                              151\n",
       "http_inspect: OVERSIZE REQUEST-URI DIRECTORY                                   102\n",
       "http_inspect: MESSAGE WITH INVALID CONTENT-LENGTH OR CHUNK SIZE                 95\n",
       "stream5: Data sent on stream not accepting data                                 84\n",
       "stream5: Data sent on stream after TCP Reset                                    26\n",
       "sensitive_data: sensitive data - Credit card numbers                            18\n",
       "smtp: Attempted response buffer overflow                                        18\n",
       "http_inspect: TOO MANY PIPELINED REQUESTS                                       16\n",
       "http_inspect: UNESCAPED SPACE IN HTTP URI                                       15\n",
       "ssp_ssl: Invalid Client HELLO after Server HELLO Detected                       13\n",
       "sensitive_data: sensitive data - U.S. social security numbers with dashes        7\n",
       "frag3: Fragmentation overlap                                                     2\n",
       "ssh: Protocol mismatch                                                           2\n",
       "stream5: Limit on number of overlapping TCP packets reached                      1\n",
       "http_inspect: CHUNKED ENCODING - EXCESSIVE CONSECUTIVE SMALL CHUNKS              1\n",
       "http_inspect: JAVASCRIPT OBFUSCATION LEVELS EXCEEDS 1                            1\n",
       "http_inspect: HTTP RESPONSE GZIP DECOMPRESSION FAILED                            1\n",
       "Name: event.msg, dtype: int64"
      ]
     },
     "execution_count": 9,
     "metadata": {},
     "output_type": "execute_result"
    }
   ],
   "source": [
    "df_s['event.msg'].value_counts()"
   ]
  },
  {
   "cell_type": "code",
   "execution_count": null,
   "metadata": {},
   "outputs": [],
   "source": []
  }
 ],
 "metadata": {
  "kernelspec": {
   "display_name": "Python 3",
   "language": "python",
   "name": "python3"
  },
  "language_info": {
   "codemirror_mode": {
    "name": "ipython",
    "version": 3
   },
   "file_extension": ".py",
   "mimetype": "text/x-python",
   "name": "python",
   "nbconvert_exporter": "python",
   "pygments_lexer": "ipython3",
   "version": "3.8.10"
  }
 },
 "nbformat": 4,
 "nbformat_minor": 4
}
