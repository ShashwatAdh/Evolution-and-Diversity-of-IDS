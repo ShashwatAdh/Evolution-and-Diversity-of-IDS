{
 "cells": [
  {
   "cell_type": "code",
   "execution_count": 1,
   "metadata": {},
   "outputs": [],
   "source": [
    "import pandas as pd"
   ]
  },
  {
   "cell_type": "code",
   "execution_count": 2,
   "metadata": {},
   "outputs": [],
   "source": [
    "snort_ds2_2017=pd.read_csv('/home/exp-1/Desktop/data/Alerts/Alerts_csv/snort_ds2/snort_ds2_2017.csv')\n",
    "snort_ds2_2018=pd.read_csv('/home/exp-1/Desktop/data/Alerts/Alerts_csv/snort_ds2/snort_ds2_2018.csv')\n",
    "snort_ds2_2019=pd.read_csv('/home/exp-1/Desktop/data/Alerts/Alerts_csv/snort_ds2/snort_ds2_2019.csv')\n",
    "snort_ds2_2020=pd.read_csv('/home/exp-1/Desktop/data/Alerts/Alerts_csv/snort_ds2/snort_ds2_2020.csv')\n",
    "suricata_ds2_2017=pd.read_csv('/home/exp-1/Desktop/data/Alerts/Alerts_csv/suricata_ds2/suricata_ds2_2017.csv')\n",
    "suricata_ds2_2018=pd.read_csv('/home/exp-1/Desktop/data/Alerts/Alerts_csv/suricata_ds2/suricata_ds2_2018.csv')\n",
    "suricata_ds2_2019=pd.read_csv('/home/exp-1/Desktop/data/Alerts/Alerts_csv/suricata_ds2/suricata_ds2_2019.csv')\n",
    "suricata_ds2_2020=pd.read_csv('/home/exp-1/Desktop/data/Alerts/Alerts_csv/suricata_ds2/suricata_ds2_2020.csv')"
   ]
  },
  {
   "cell_type": "code",
   "execution_count": 3,
   "metadata": {},
   "outputs": [
    {
     "name": "stdout",
     "output_type": "stream",
     "text": [
      "0        2017-07-06 09:01:02\n",
      "1        2017-07-06 09:01:38\n",
      "2        2017-07-06 09:05:42\n",
      "3        2017-07-06 09:09:04\n",
      "4        2017-07-06 09:09:04\n",
      "                ...         \n",
      "24110    2017-07-06 16:49:54\n",
      "24111    2017-07-06 16:49:54\n",
      "24112    2017-07-06 16:54:01\n",
      "24113    2017-07-06 16:56:57\n",
      "24114    2017-07-06 16:59:58\n",
      "Name: date, Length: 24115, dtype: object\n"
     ]
    }
   ],
   "source": [
    "print(suricata_ds2_2017['date'])"
   ]
  },
  {
   "cell_type": "code",
   "execution_count": 4,
   "metadata": {},
   "outputs": [],
   "source": [
    "snort_ds3_2017=pd.read_csv('/home/exp-1/Desktop/data/Alerts/Alerts_csv/snort_ds3/snort_ds3_2017.csv')\n",
    "snort_ds3_2018=pd.read_csv('/home/exp-1/Desktop/data/Alerts/Alerts_csv/snort_ds3/snort_ds3_2018.csv')\n",
    "snort_ds3_2019=pd.read_csv('/home/exp-1/Desktop/data/Alerts/Alerts_csv/snort_ds3/snort_ds3_2019.csv')\n",
    "snort_ds3_2020=pd.read_csv('/home/exp-1/Desktop/data/Alerts/Alerts_csv/snort_ds3/snort_ds3_2020.csv')\n",
    "suricata_ds3_2017=pd.read_csv('/home/exp-1/Desktop/data/Alerts/Alerts_csv/suricata_ds3/suricata_ds3_2017.csv')\n",
    "suricata_ds3_2018=pd.read_csv('/home/exp-1/Desktop/data/Alerts/Alerts_csv/suricata_ds3/suricata_ds3_2018.csv')\n",
    "suricata_ds3_2019=pd.read_csv('/home/exp-1/Desktop/data/Alerts/Alerts_csv/suricata_ds3/suricata_ds3_2019.csv')\n",
    "suricata_ds3_2020=pd.read_csv('/home/exp-1/Desktop/data/Alerts/Alerts_csv/suricata_ds3/suricata_ds3_2020.csv')"
   ]
  },
  {
   "cell_type": "code",
   "execution_count": null,
   "metadata": {},
   "outputs": [],
   "source": []
  },
  {
   "cell_type": "code",
   "execution_count": 5,
   "metadata": {},
   "outputs": [],
   "source": [
    "#suricata_ds2_2017['date']=pd.to_datetime(suricata_ds2_2017['timestamp'], utc=True)\n",
    "#suricata_ds2_2017['date'] = suricata_ds2_2017['date'].map(lambda x: str(x)[:-13])\n",
    "#suricata_ds3_2017['date']=pd.to_datetime(suricata_ds3_2017['timestamp'], utc=True)\n",
    "#suricata_ds3_2017['date'] = suricata_ds3_2017['date'].map(lambda x: str(x)[:-13])"
   ]
  },
  {
   "cell_type": "code",
   "execution_count": 6,
   "metadata": {},
   "outputs": [],
   "source": [
    "#suricata_ds2_2018['date']=pd.to_datetime(suricata_ds2_2018['timestamp'], utc=True)\n",
    "#suricata_ds2_2018['date'] = suricata_ds2_2018['date'].map(lambda x: str(x)[:-13])\n",
    "#suricata_ds3_2018['date']=pd.to_datetime(suricata_ds3_2018['timestamp'], utc=True)\n",
    "#suricata_ds3_2018['date'] = suricata_ds3_2018['date'].map(lambda x: str(x)[:-13])"
   ]
  },
  {
   "cell_type": "code",
   "execution_count": 7,
   "metadata": {},
   "outputs": [],
   "source": [
    "#suricata_ds2_2019['date']=pd.to_datetime(suricata_ds2_2019['timestamp'], utc=True)\n",
    "#suricata_ds2_2019['date'] = suricata_ds2_2019['date'].map(lambda x: str(x)[:-13])\n",
    "#suricata_ds3_2019['date']=pd.to_datetime(suricata_ds3_2019['timestamp'], utc=True)\n",
    "#suricata_ds3_2019['date'] = suricata_ds3_2019['date'].map(lambda x: str(x)[:-13])"
   ]
  },
  {
   "cell_type": "code",
   "execution_count": 8,
   "metadata": {},
   "outputs": [],
   "source": [
    "#suricata_ds2_2020['date']=pd.to_datetime(suricata_ds2_2020['timestamp'], utc=True)\n",
    "#suricata_ds2_2020['date'] = suricata_ds2_2020['date'].map(lambda x: str(x)[:-13])\n",
    "#suricata_ds3_2020['date']=pd.to_datetime(suricata_ds3_2020['timestamp'], utc=True)\n",
    "#suricata_ds3_2020['date'] = suricata_ds3_2020['date'].map(lambda x: str(x)[:-13])"
   ]
  },
  {
   "cell_type": "code",
   "execution_count": 9,
   "metadata": {},
   "outputs": [],
   "source": [
    "#snort_ds2_2017['date'].isin(suricata_ds2_2017['date']).value_counts()"
   ]
  },
  {
   "cell_type": "code",
   "execution_count": 10,
   "metadata": {},
   "outputs": [],
   "source": [
    "#snort_ds2_2017['id']=snort_ds2_2017['event.source-ip']+'-'+snort_ds2_2017['event.destination-ip']+'-'+snort_ds2_2017['event.sport-itype'].astype(int).astype(str)+'-'+snort_ds2_2017['event.dport-icode'].astype(int).astype(str)\n",
    "#suricata_ds2_2017['id']=suricata_ds2_2017['src_ip']+'-'+suricata_ds2_2017['dest_ip']+'-'+suricata_ds2_2017['src_port'].astype(int).astype(str)+'-'+suricata_ds2_2017['dest_port'].astype(int).astype(str)"
   ]
  },
  {
   "cell_type": "code",
   "execution_count": 11,
   "metadata": {},
   "outputs": [],
   "source": [
    "snort_ds2_2017['id']=snort_ds2_2017['event.source-ip']+'-'+snort_ds2_2017['event.destination-ip']#+'-'+snort_ds2_2017['date'].astype(str)\n",
    "snort_ds2_2018['id']=snort_ds2_2018['event.source-ip']+'-'+snort_ds2_2018['event.destination-ip']#+'-'+snort_ds2_2018['date'].astype(str)\n",
    "snort_ds2_2019['id']=snort_ds2_2019['event.source-ip']+'-'+snort_ds2_2019['event.destination-ip']#+'-'+snort_ds2_2019['date'].astype(str)\n",
    "snort_ds2_2020['id']=snort_ds2_2020['event.source-ip']+'-'+snort_ds2_2020['event.destination-ip']#+'-'+snort_ds2_2020['date'].astype(str)\n",
    "suricata_ds2_2017['id']=suricata_ds2_2017['src_ip']+'-'+suricata_ds2_2017['dest_ip']#+'-'+suricata_ds2_2017['date'].astype(str)\n",
    "suricata_ds2_2018['id']=suricata_ds2_2018['src_ip']+'-'+suricata_ds2_2018['dest_ip']#+'-'+suricata_ds2_2018['date'].astype(str)\n",
    "suricata_ds2_2019['id']=suricata_ds2_2019['src_ip']+'-'+suricata_ds2_2019['dest_ip']#+'-'+suricata_ds2_2019['date'].astype(str)\n",
    "suricata_ds2_2020['id']=suricata_ds2_2020['src_ip']+'-'+suricata_ds2_2020['dest_ip']#+'-'+suricata_ds2_2020['date'].astype(str)"
   ]
  },
  {
   "cell_type": "code",
   "execution_count": 12,
   "metadata": {},
   "outputs": [],
   "source": [
    "snort_ds3_2017['id']=snort_ds3_2017['event.source-ip']+'-'+snort_ds3_2017['event.destination-ip']+'-'+snort_ds3_2017['event.dport-icode'].astype(int).astype(str)+'-'+snort_ds3_2017['date'].astype(str)\n",
    "snort_ds3_2018['id']=snort_ds3_2018['event.source-ip']+'-'+snort_ds3_2018['event.destination-ip']+'-'+snort_ds3_2018['event.dport-icode'].astype(int).astype(str)+'-'+snort_ds3_2018['date'].astype(str)\n",
    "snort_ds3_2019['id']=snort_ds3_2019['event.source-ip']+'-'+snort_ds3_2019['event.destination-ip']+'-'+snort_ds3_2019['event.dport-icode'].astype(int).astype(str)+'-'+snort_ds3_2019['date'].astype(str)\n",
    "snort_ds3_2020['id']=snort_ds3_2020['event.source-ip']+'-'+snort_ds3_2020['event.destination-ip']+'-'+snort_ds3_2020['event.dport-icode'].astype(int).astype(str)+'-'+snort_ds3_2020['date'].astype(str)\n",
    "suricata_ds3_2017['id']=suricata_ds3_2017['src_ip']+'-'+suricata_ds3_2017['dest_ip']+'-'+suricata_ds3_2017['dest_port'].astype(int).astype(str)+'-'+suricata_ds3_2017['date'].astype(str)\n",
    "suricata_ds3_2018['id']=suricata_ds3_2018['src_ip']+'-'+suricata_ds3_2018['dest_ip']+'-'+suricata_ds3_2018['dest_port'].astype(int).astype(str)+'-'+suricata_ds3_2018['date'].astype(str)\n",
    "suricata_ds3_2019['id']=suricata_ds3_2019['src_ip']+'-'+suricata_ds3_2019['dest_ip']+'-'+suricata_ds3_2019['dest_port'].astype(int).astype(str)+'-'+suricata_ds3_2019['date'].astype(str)\n",
    "suricata_ds3_2020['id']=suricata_ds3_2020['src_ip']+'-'+suricata_ds3_2020['dest_ip']+'-'+suricata_ds3_2020['dest_port'].astype(int).astype(str)+'-'+suricata_ds3_2020['date'].astype(str)"
   ]
  },
  {
   "cell_type": "code",
   "execution_count": 13,
   "metadata": {},
   "outputs": [
    {
     "data": {
      "text/plain": [
       "0        158.69.247.184-192.168.10.12\n",
       "1           13.107.4.50-192.168.10.15\n",
       "2           13.107.4.50-192.168.10.15\n",
       "3            192.168.10.5-23.50.75.27\n",
       "4            192.168.10.5-23.50.75.27\n",
       "                     ...             \n",
       "24110      192.168.10.8-192.225.158.2\n",
       "24111      192.225.158.2-192.168.10.8\n",
       "24112     212.239.56.65-192.168.10.25\n",
       "24113    158.69.247.184-192.168.10.19\n",
       "24114     212.239.56.65-192.168.10.25\n",
       "Name: id, Length: 24115, dtype: object"
      ]
     },
     "execution_count": 13,
     "metadata": {},
     "output_type": "execute_result"
    }
   ],
   "source": [
    "suricata_ds2_2017['id']"
   ]
  },
  {
   "cell_type": "code",
   "execution_count": 14,
   "metadata": {},
   "outputs": [
    {
     "data": {
      "text/plain": [
       "0         192.168.10.3-192.168.10.19\n",
       "1         192.168.10.3-192.168.10.19\n",
       "2         192.168.10.3-192.168.10.19\n",
       "3         192.168.10.3-192.168.10.19\n",
       "4         192.168.10.3-192.168.10.19\n",
       "                    ...             \n",
       "29904    68.67.178.196-192.168.10.14\n",
       "29905    192.168.10.14-74.119.118.82\n",
       "29906    192.168.10.15-38.72.130.155\n",
       "29907    74.119.118.74-192.168.10.51\n",
       "29908     68.67.178.110-192.168.10.8\n",
       "Name: id, Length: 29909, dtype: object"
      ]
     },
     "execution_count": 14,
     "metadata": {},
     "output_type": "execute_result"
    }
   ],
   "source": [
    "snort_ds2_2017['id']"
   ]
  },
  {
   "cell_type": "code",
   "execution_count": 15,
   "metadata": {
    "scrolled": true
   },
   "outputs": [
    {
     "data": {
      "text/plain": [
       "False    29575\n",
       "True       334\n",
       "Name: id, dtype: int64"
      ]
     },
     "execution_count": 15,
     "metadata": {},
     "output_type": "execute_result"
    }
   ],
   "source": [
    "snort_ds2_2017['id'].isin(suricata_ds2_2017['id']).value_counts()"
   ]
  },
  {
   "cell_type": "code",
   "execution_count": 16,
   "metadata": {},
   "outputs": [
    {
     "data": {
      "text/plain": [
       "False    29803\n",
       "True       106\n",
       "Name: id, dtype: int64"
      ]
     },
     "execution_count": 16,
     "metadata": {},
     "output_type": "execute_result"
    }
   ],
   "source": [
    "snort_ds2_2018['id'].isin(suricata_ds2_2018['id']).value_counts()"
   ]
  },
  {
   "cell_type": "code",
   "execution_count": 17,
   "metadata": {},
   "outputs": [
    {
     "data": {
      "text/plain": [
       "False    29797\n",
       "True       112\n",
       "Name: id, dtype: int64"
      ]
     },
     "execution_count": 17,
     "metadata": {},
     "output_type": "execute_result"
    }
   ],
   "source": [
    "snort_ds2_2019['id'].isin(suricata_ds2_2019['id']).value_counts()"
   ]
  },
  {
   "cell_type": "code",
   "execution_count": 18,
   "metadata": {},
   "outputs": [
    {
     "data": {
      "text/plain": [
       "False    36154\n",
       "True      1093\n",
       "Name: id, dtype: int64"
      ]
     },
     "execution_count": 18,
     "metadata": {},
     "output_type": "execute_result"
    }
   ],
   "source": [
    "snort_ds2_2020['id'].isin(suricata_ds2_2020['id']).value_counts()"
   ]
  },
  {
   "cell_type": "code",
   "execution_count": 19,
   "metadata": {},
   "outputs": [
    {
     "data": {
      "text/plain": [
       "False    224914\n",
       "True      62268\n",
       "Name: id, dtype: int64"
      ]
     },
     "execution_count": 19,
     "metadata": {},
     "output_type": "execute_result"
    }
   ],
   "source": [
    "snort_ds3_2017['id'].isin(suricata_ds3_2017['id']).value_counts()"
   ]
  },
  {
   "cell_type": "code",
   "execution_count": 20,
   "metadata": {},
   "outputs": [
    {
     "data": {
      "text/plain": [
       "False    225424\n",
       "True      61758\n",
       "Name: id, dtype: int64"
      ]
     },
     "execution_count": 20,
     "metadata": {},
     "output_type": "execute_result"
    }
   ],
   "source": [
    "snort_ds3_2018['id'].isin(suricata_ds3_2018['id']).value_counts()"
   ]
  },
  {
   "cell_type": "code",
   "execution_count": 21,
   "metadata": {},
   "outputs": [
    {
     "data": {
      "text/plain": [
       "False    218570\n",
       "True      68612\n",
       "Name: id, dtype: int64"
      ]
     },
     "execution_count": 21,
     "metadata": {},
     "output_type": "execute_result"
    }
   ],
   "source": [
    "snort_ds3_2019['id'].isin(suricata_ds3_2019['id']).value_counts()"
   ]
  },
  {
   "cell_type": "code",
   "execution_count": 23,
   "metadata": {},
   "outputs": [
    {
     "data": {
      "text/plain": [
       "False    218570\n",
       "True      68612\n",
       "Name: id, dtype: int64"
      ]
     },
     "execution_count": 23,
     "metadata": {},
     "output_type": "execute_result"
    }
   ],
   "source": [
    "snort_ds3_2020['id'].isin(suricata_ds3_2020['id']).value_counts()"
   ]
  },
  {
   "cell_type": "code",
   "execution_count": 24,
   "metadata": {},
   "outputs": [],
   "source": [
    "snort_ds2_2017['Common'] = snort_ds2_2017['id'].isin(suricata_ds2_2017['id'])\n",
    "snort_ds2_2018['Common'] = snort_ds2_2018['id'].isin(suricata_ds2_2018['id'])\n",
    "snort_ds2_2019['Common'] = snort_ds2_2019['id'].isin(suricata_ds2_2019['id'])\n",
    "snort_ds2_2020['Common'] = snort_ds2_2020['id'].isin(suricata_ds2_2020['id'])\n",
    "suricata_ds2_2017['Common']=snort_ds2_2017['id'].isin(suricata_ds2_2017['id'])\n",
    "suricata_ds2_2018['Common']=snort_ds2_2018['id'].isin(suricata_ds2_2018['id'])\n",
    "suricata_ds2_2019['Common']=snort_ds2_2019['id'].isin(suricata_ds2_2019['id'])\n",
    "suricata_ds2_2020['Common']=snort_ds2_2020['id'].isin(suricata_ds2_2020['id'])"
   ]
  },
  {
   "cell_type": "code",
   "execution_count": 25,
   "metadata": {},
   "outputs": [
    {
     "data": {
      "text/plain": [
       "False    29797\n",
       "True       112\n",
       "Name: Common, dtype: int64"
      ]
     },
     "execution_count": 25,
     "metadata": {},
     "output_type": "execute_result"
    }
   ],
   "source": [
    "snort_ds2_2019['Common'].value_counts()"
   ]
  },
  {
   "cell_type": "code",
   "execution_count": 26,
   "metadata": {},
   "outputs": [],
   "source": [
    "snort_ds3_2017['Common'] = snort_ds3_2017['id'].isin(suricata_ds3_2017['id'])\n",
    "snort_ds3_2018['Common'] = snort_ds3_2018['id'].isin(suricata_ds3_2018['id'])\n",
    "snort_ds3_2019['Common'] = snort_ds3_2019['id'].isin(suricata_ds3_2019['id'])\n",
    "snort_ds3_2020['Common'] = snort_ds3_2020['id'].isin(suricata_ds3_2020['id'])\n",
    "suricata_ds3_2017['Common']=snort_ds3_2017['id'].isin(suricata_ds3_2017['id'])\n",
    "suricata_ds3_2018['Common']=snort_ds3_2018['id'].isin(suricata_ds3_2018['id'])\n",
    "suricata_ds3_2019['Common']=snort_ds3_2019['id'].isin(suricata_ds3_2019['id'])\n",
    "suricata_ds3_2020['Common']=snort_ds3_2020['id'].isin(suricata_ds3_2020['id'])"
   ]
  },
  {
   "cell_type": "code",
   "execution_count": null,
   "metadata": {},
   "outputs": [],
   "source": []
  },
  {
   "cell_type": "code",
   "execution_count": 27,
   "metadata": {},
   "outputs": [],
   "source": [
    "Diversity_ds3_2017=snort_ds3_2017.loc[snort_ds3_2017['Common']== True]\n",
    "Diversity_ds3_2018=snort_ds3_2018.loc[snort_ds3_2018['Common']== True]\n",
    "Diversity_ds3_2019=snort_ds3_2019.loc[snort_ds3_2019['Common']== True]\n",
    "Diversity_ds3_2020=snort_ds3_2020.loc[snort_ds3_2020['Common']== True]"
   ]
  },
  {
   "cell_type": "code",
   "execution_count": 28,
   "metadata": {},
   "outputs": [],
   "source": [
    "Diversity_2017=snort_ds2_2017.loc[snort_ds2_2017['Common']== True]\n",
    "Diversity_2018=snort_ds2_2018.loc[snort_ds2_2018['Common']== True]\n",
    "Diversity_2019=snort_ds2_2019.loc[snort_ds2_2019['Common']== True]\n",
    "Diversity_2020=snort_ds2_2020.loc[snort_ds2_2020['Common']== True]"
   ]
  },
  {
   "cell_type": "code",
   "execution_count": 29,
   "metadata": {},
   "outputs": [],
   "source": [
    "temp_2017=suricata_ds2_2017.loc[suricata_ds2_2017['Common']== True]\n",
    "temp_2018=suricata_ds2_2018.loc[suricata_ds2_2018['Common']== True]\n",
    "temp_2019=suricata_ds2_2019.loc[suricata_ds2_2019['Common']== True]\n",
    "temp_2020=suricata_ds2_2020.loc[suricata_ds2_2020['Common']== True]"
   ]
  },
  {
   "cell_type": "code",
   "execution_count": 30,
   "metadata": {},
   "outputs": [],
   "source": [
    "temp_ds3_2017=suricata_ds3_2017.loc[suricata_ds3_2017['Common']== True]\n",
    "temp_ds3_2018=suricata_ds3_2018.loc[suricata_ds3_2018['Common']== True]\n",
    "temp_ds3_2019=suricata_ds3_2019.loc[suricata_ds3_2019['Common']== True]\n",
    "temp_ds3_2020=suricata_ds3_2020.loc[suricata_ds3_2020['Common']== True]"
   ]
  },
  {
   "cell_type": "code",
   "execution_count": 34,
   "metadata": {},
   "outputs": [
    {
     "data": {
      "text/plain": [
       "False    68262\n",
       "True       350\n",
       "Name: positives, dtype: int64"
      ]
     },
     "execution_count": 34,
     "metadata": {},
     "output_type": "execute_result"
    }
   ],
   "source": [
    "Diversity_ds3_2020['positives'].value_counts()"
   ]
  },
  {
   "cell_type": "code",
   "execution_count": 100,
   "metadata": {},
   "outputs": [
    {
     "name": "stderr",
     "output_type": "stream",
     "text": [
      "<ipython-input-100-e131016b6b1e>:1: SettingWithCopyWarning: \n",
      "A value is trying to be set on a copy of a slice from a DataFrame.\n",
      "Try using .loc[row_indexer,col_indexer] = value instead\n",
      "\n",
      "See the caveats in the documentation: https://pandas.pydata.org/pandas-docs/stable/user_guide/indexing.html#returning-a-view-versus-a-copy\n",
      "  Diversity_ds3_2017['suricata_timestamp']=temp_ds3_2017['date']\n",
      "<ipython-input-100-e131016b6b1e>:2: SettingWithCopyWarning: \n",
      "A value is trying to be set on a copy of a slice from a DataFrame.\n",
      "Try using .loc[row_indexer,col_indexer] = value instead\n",
      "\n",
      "See the caveats in the documentation: https://pandas.pydata.org/pandas-docs/stable/user_guide/indexing.html#returning-a-view-versus-a-copy\n",
      "  Diversity_ds3_2018['suricata_timestamp']=temp_ds3_2018['date']\n",
      "<ipython-input-100-e131016b6b1e>:3: SettingWithCopyWarning: \n",
      "A value is trying to be set on a copy of a slice from a DataFrame.\n",
      "Try using .loc[row_indexer,col_indexer] = value instead\n",
      "\n",
      "See the caveats in the documentation: https://pandas.pydata.org/pandas-docs/stable/user_guide/indexing.html#returning-a-view-versus-a-copy\n",
      "  Diversity_ds3_2019['suricata_timestamp']=temp_ds3_2019['date']\n",
      "<ipython-input-100-e131016b6b1e>:4: SettingWithCopyWarning: \n",
      "A value is trying to be set on a copy of a slice from a DataFrame.\n",
      "Try using .loc[row_indexer,col_indexer] = value instead\n",
      "\n",
      "See the caveats in the documentation: https://pandas.pydata.org/pandas-docs/stable/user_guide/indexing.html#returning-a-view-versus-a-copy\n",
      "  Diversity_ds3_2020['suricata_timestamp']=temp_ds3_2020['date']\n"
     ]
    }
   ],
   "source": [
    "Diversity_ds3_2017['suricata_timestamp']=temp_ds3_2017['date']\n",
    "Diversity_ds3_2018['suricata_timestamp']=temp_ds3_2018['date']\n",
    "Diversity_ds3_2019['suricata_timestamp']=temp_ds3_2019['date']\n",
    "Diversity_ds3_2020['suricata_timestamp']=temp_ds3_2020['date']"
   ]
  },
  {
   "cell_type": "code",
   "execution_count": 82,
   "metadata": {},
   "outputs": [
    {
     "name": "stderr",
     "output_type": "stream",
     "text": [
      "<ipython-input-82-70da746a67a0>:1: SettingWithCopyWarning: \n",
      "A value is trying to be set on a copy of a slice from a DataFrame.\n",
      "Try using .loc[row_indexer,col_indexer] = value instead\n",
      "\n",
      "See the caveats in the documentation: https://pandas.pydata.org/pandas-docs/stable/user_guide/indexing.html#returning-a-view-versus-a-copy\n",
      "  Diversity_2017['suricata_timestamp']=temp_2017['date']\n",
      "<ipython-input-82-70da746a67a0>:2: SettingWithCopyWarning: \n",
      "A value is trying to be set on a copy of a slice from a DataFrame.\n",
      "Try using .loc[row_indexer,col_indexer] = value instead\n",
      "\n",
      "See the caveats in the documentation: https://pandas.pydata.org/pandas-docs/stable/user_guide/indexing.html#returning-a-view-versus-a-copy\n",
      "  Diversity_2018['suricata_timestamp']=temp_2018['date']\n",
      "<ipython-input-82-70da746a67a0>:3: SettingWithCopyWarning: \n",
      "A value is trying to be set on a copy of a slice from a DataFrame.\n",
      "Try using .loc[row_indexer,col_indexer] = value instead\n",
      "\n",
      "See the caveats in the documentation: https://pandas.pydata.org/pandas-docs/stable/user_guide/indexing.html#returning-a-view-versus-a-copy\n",
      "  Diversity_2019['suricata_timestamp']=temp_2019['date']\n",
      "<ipython-input-82-70da746a67a0>:4: SettingWithCopyWarning: \n",
      "A value is trying to be set on a copy of a slice from a DataFrame.\n",
      "Try using .loc[row_indexer,col_indexer] = value instead\n",
      "\n",
      "See the caveats in the documentation: https://pandas.pydata.org/pandas-docs/stable/user_guide/indexing.html#returning-a-view-versus-a-copy\n",
      "  Diversity_2020['suricata_timestamp']=temp_2020['date']\n"
     ]
    }
   ],
   "source": [
    "Diversity_2017['suricata_timestamp']=temp_2017['date']\n",
    "Diversity_2018['suricata_timestamp']=temp_2018['date']\n",
    "Diversity_2019['suricata_timestamp']=temp_2019['date']\n",
    "Diversity_2020['suricata_timestamp']=temp_2020['date']"
   ]
  },
  {
   "cell_type": "code",
   "execution_count": 35,
   "metadata": {},
   "outputs": [
    {
     "name": "stderr",
     "output_type": "stream",
     "text": [
      "<ipython-input-35-22fc2b507944>:1: SettingWithCopyWarning: \n",
      "A value is trying to be set on a copy of a slice from a DataFrame.\n",
      "Try using .loc[row_indexer,col_indexer] = value instead\n",
      "\n",
      "See the caveats in the documentation: https://pandas.pydata.org/pandas-docs/stable/user_guide/indexing.html#returning-a-view-versus-a-copy\n",
      "  Diversity_ds3_2017['snort_timestamp']=Diversity_ds3_2017['date']\n",
      "<ipython-input-35-22fc2b507944>:2: SettingWithCopyWarning: \n",
      "A value is trying to be set on a copy of a slice from a DataFrame.\n",
      "Try using .loc[row_indexer,col_indexer] = value instead\n",
      "\n",
      "See the caveats in the documentation: https://pandas.pydata.org/pandas-docs/stable/user_guide/indexing.html#returning-a-view-versus-a-copy\n",
      "  Diversity_ds3_2018['snort_timestamp']=Diversity_ds3_2018['date']\n",
      "<ipython-input-35-22fc2b507944>:3: SettingWithCopyWarning: \n",
      "A value is trying to be set on a copy of a slice from a DataFrame.\n",
      "Try using .loc[row_indexer,col_indexer] = value instead\n",
      "\n",
      "See the caveats in the documentation: https://pandas.pydata.org/pandas-docs/stable/user_guide/indexing.html#returning-a-view-versus-a-copy\n",
      "  Diversity_ds3_2019['snort_timestamp']=Diversity_ds3_2019['date']\n",
      "<ipython-input-35-22fc2b507944>:4: SettingWithCopyWarning: \n",
      "A value is trying to be set on a copy of a slice from a DataFrame.\n",
      "Try using .loc[row_indexer,col_indexer] = value instead\n",
      "\n",
      "See the caveats in the documentation: https://pandas.pydata.org/pandas-docs/stable/user_guide/indexing.html#returning-a-view-versus-a-copy\n",
      "  Diversity_ds3_2020['snort_timestamp']=Diversity_ds3_2020['date']\n"
     ]
    }
   ],
   "source": [
    "Diversity_ds3_2017['snort_timestamp']=Diversity_ds3_2017['date']\n",
    "Diversity_ds3_2018['snort_timestamp']=Diversity_ds3_2018['date']\n",
    "Diversity_ds3_2019['snort_timestamp']=Diversity_ds3_2019['date']\n",
    "Diversity_ds3_2020['snort_timestamp']=Diversity_ds3_2020['date']"
   ]
  },
  {
   "cell_type": "code",
   "execution_count": 83,
   "metadata": {},
   "outputs": [
    {
     "name": "stderr",
     "output_type": "stream",
     "text": [
      "<ipython-input-83-d0a5e7008221>:1: SettingWithCopyWarning: \n",
      "A value is trying to be set on a copy of a slice from a DataFrame.\n",
      "Try using .loc[row_indexer,col_indexer] = value instead\n",
      "\n",
      "See the caveats in the documentation: https://pandas.pydata.org/pandas-docs/stable/user_guide/indexing.html#returning-a-view-versus-a-copy\n",
      "  Diversity_2017['snort_timestamp']=Diversity_2017['date']\n",
      "<ipython-input-83-d0a5e7008221>:2: SettingWithCopyWarning: \n",
      "A value is trying to be set on a copy of a slice from a DataFrame.\n",
      "Try using .loc[row_indexer,col_indexer] = value instead\n",
      "\n",
      "See the caveats in the documentation: https://pandas.pydata.org/pandas-docs/stable/user_guide/indexing.html#returning-a-view-versus-a-copy\n",
      "  Diversity_2018['snort_timestamp']=Diversity_2018['date']\n",
      "<ipython-input-83-d0a5e7008221>:3: SettingWithCopyWarning: \n",
      "A value is trying to be set on a copy of a slice from a DataFrame.\n",
      "Try using .loc[row_indexer,col_indexer] = value instead\n",
      "\n",
      "See the caveats in the documentation: https://pandas.pydata.org/pandas-docs/stable/user_guide/indexing.html#returning-a-view-versus-a-copy\n",
      "  Diversity_2019['snort_timestamp']=Diversity_2019['date']\n",
      "<ipython-input-83-d0a5e7008221>:4: SettingWithCopyWarning: \n",
      "A value is trying to be set on a copy of a slice from a DataFrame.\n",
      "Try using .loc[row_indexer,col_indexer] = value instead\n",
      "\n",
      "See the caveats in the documentation: https://pandas.pydata.org/pandas-docs/stable/user_guide/indexing.html#returning-a-view-versus-a-copy\n",
      "  Diversity_2020['snort_timestamp']=Diversity_2020['date']\n"
     ]
    }
   ],
   "source": [
    "Diversity_2017['snort_timestamp']=Diversity_2017['date']\n",
    "Diversity_2018['snort_timestamp']=Diversity_2018['date']\n",
    "Diversity_2019['snort_timestamp']=Diversity_2019['date']\n",
    "Diversity_2020['snort_timestamp']=Diversity_2020['date']"
   ]
  },
  {
   "cell_type": "code",
   "execution_count": 37,
   "metadata": {
    "scrolled": false
   },
   "outputs": [
    {
     "data": {
      "text/html": [
       "<div>\n",
       "<style scoped>\n",
       "    .dataframe tbody tr th:only-of-type {\n",
       "        vertical-align: middle;\n",
       "    }\n",
       "\n",
       "    .dataframe tbody tr th {\n",
       "        vertical-align: top;\n",
       "    }\n",
       "\n",
       "    .dataframe thead th {\n",
       "        text-align: right;\n",
       "    }\n",
       "</style>\n",
       "<table border=\"1\" class=\"dataframe\">\n",
       "  <thead>\n",
       "    <tr style=\"text-align: right;\">\n",
       "      <th></th>\n",
       "      <th>event.source-ip</th>\n",
       "      <th>event.destination-ip</th>\n",
       "      <th>event.sport-itype</th>\n",
       "      <th>event.dport-icode</th>\n",
       "      <th>event.protocol</th>\n",
       "      <th>event.event-second</th>\n",
       "      <th>event.event-microsecond</th>\n",
       "      <th>event.msg</th>\n",
       "      <th>event.signature-id</th>\n",
       "      <th>date</th>\n",
       "      <th>id</th>\n",
       "      <th>positives</th>\n",
       "      <th>Common</th>\n",
       "      <th>suricata_timestamp</th>\n",
       "      <th>snort_timestamp</th>\n",
       "    </tr>\n",
       "  </thead>\n",
       "  <tbody>\n",
       "    <tr>\n",
       "      <th>15</th>\n",
       "      <td>201.208.203.144</td>\n",
       "      <td>172.31.64.95</td>\n",
       "      <td>61747.0</td>\n",
       "      <td>445.0</td>\n",
       "      <td>6.0</td>\n",
       "      <td>1.519302e+09</td>\n",
       "      <td>528384.0</td>\n",
       "      <td>stream5: TCP Small Segment Threshold Exceeded</td>\n",
       "      <td>12.0</td>\n",
       "      <td>2018-02-22 09:22:31</td>\n",
       "      <td>201.208.203.144-172.31.64.95-61747-445-2018-02...</td>\n",
       "      <td>False</td>\n",
       "      <td>True</td>\n",
       "      <td>2018-02-22 09:22:37</td>\n",
       "      <td>2018-02-22 09:22:31</td>\n",
       "    </tr>\n",
       "    <tr>\n",
       "      <th>24</th>\n",
       "      <td>201.208.203.144</td>\n",
       "      <td>172.31.64.95</td>\n",
       "      <td>62699.0</td>\n",
       "      <td>445.0</td>\n",
       "      <td>6.0</td>\n",
       "      <td>1.519302e+09</td>\n",
       "      <td>620100.0</td>\n",
       "      <td>stream5: TCP Small Segment Threshold Exceeded</td>\n",
       "      <td>12.0</td>\n",
       "      <td>2018-02-22 09:22:35</td>\n",
       "      <td>201.208.203.144-172.31.64.95-62699-445-2018-02...</td>\n",
       "      <td>False</td>\n",
       "      <td>True</td>\n",
       "      <td>2018-02-22 09:22:39</td>\n",
       "      <td>2018-02-22 09:22:35</td>\n",
       "    </tr>\n",
       "    <tr>\n",
       "      <th>85</th>\n",
       "      <td>188.163.110.18</td>\n",
       "      <td>172.31.65.81</td>\n",
       "      <td>63292.0</td>\n",
       "      <td>445.0</td>\n",
       "      <td>6.0</td>\n",
       "      <td>1.519302e+09</td>\n",
       "      <td>995894.0</td>\n",
       "      <td>stream5: TCP Small Segment Threshold Exceeded</td>\n",
       "      <td>12.0</td>\n",
       "      <td>2018-02-22 09:22:51</td>\n",
       "      <td>188.163.110.18-172.31.65.81-63292-445-2018-02-...</td>\n",
       "      <td>False</td>\n",
       "      <td>True</td>\n",
       "      <td>2018-02-22 09:22:53</td>\n",
       "      <td>2018-02-22 09:22:51</td>\n",
       "    </tr>\n",
       "    <tr>\n",
       "      <th>89</th>\n",
       "      <td>180.151.226.211</td>\n",
       "      <td>172.31.64.115</td>\n",
       "      <td>51335.0</td>\n",
       "      <td>445.0</td>\n",
       "      <td>6.0</td>\n",
       "      <td>1.519302e+09</td>\n",
       "      <td>374869.0</td>\n",
       "      <td>stream5: TCP Small Segment Threshold Exceeded</td>\n",
       "      <td>12.0</td>\n",
       "      <td>2018-02-22 09:22:52</td>\n",
       "      <td>180.151.226.211-172.31.64.115-51335-445-2018-0...</td>\n",
       "      <td>False</td>\n",
       "      <td>True</td>\n",
       "      <td>2018-02-22 09:22:54</td>\n",
       "      <td>2018-02-22 09:22:52</td>\n",
       "    </tr>\n",
       "    <tr>\n",
       "      <th>102</th>\n",
       "      <td>188.163.110.18</td>\n",
       "      <td>172.31.65.81</td>\n",
       "      <td>62804.0</td>\n",
       "      <td>445.0</td>\n",
       "      <td>6.0</td>\n",
       "      <td>1.519302e+09</td>\n",
       "      <td>822582.0</td>\n",
       "      <td>stream5: TCP Small Segment Threshold Exceeded</td>\n",
       "      <td>12.0</td>\n",
       "      <td>2018-02-22 09:22:55</td>\n",
       "      <td>188.163.110.18-172.31.65.81-62804-445-2018-02-...</td>\n",
       "      <td>False</td>\n",
       "      <td>True</td>\n",
       "      <td>2018-02-22 09:22:56</td>\n",
       "      <td>2018-02-22 09:22:55</td>\n",
       "    </tr>\n",
       "    <tr>\n",
       "      <th>...</th>\n",
       "      <td>...</td>\n",
       "      <td>...</td>\n",
       "      <td>...</td>\n",
       "      <td>...</td>\n",
       "      <td>...</td>\n",
       "      <td>...</td>\n",
       "      <td>...</td>\n",
       "      <td>...</td>\n",
       "      <td>...</td>\n",
       "      <td>...</td>\n",
       "      <td>...</td>\n",
       "      <td>...</td>\n",
       "      <td>...</td>\n",
       "      <td>...</td>\n",
       "      <td>...</td>\n",
       "    </tr>\n",
       "    <tr>\n",
       "      <th>287050</th>\n",
       "      <td>128.73.35.74</td>\n",
       "      <td>172.31.65.29</td>\n",
       "      <td>58216.0</td>\n",
       "      <td>445.0</td>\n",
       "      <td>6.0</td>\n",
       "      <td>1.519423e+09</td>\n",
       "      <td>362241.0</td>\n",
       "      <td>stream5: TCP Small Segment Threshold Exceeded</td>\n",
       "      <td>12.0</td>\n",
       "      <td>2018-02-23 19:02:20</td>\n",
       "      <td>128.73.35.74-172.31.65.29-58216-445-2018-02-23...</td>\n",
       "      <td>False</td>\n",
       "      <td>True</td>\n",
       "      <td>2018-02-22 14:13:34</td>\n",
       "      <td>2018-02-23 19:02:20</td>\n",
       "    </tr>\n",
       "    <tr>\n",
       "      <th>287065</th>\n",
       "      <td>12.190.216.231</td>\n",
       "      <td>172.31.65.29</td>\n",
       "      <td>57633.0</td>\n",
       "      <td>445.0</td>\n",
       "      <td>6.0</td>\n",
       "      <td>1.519423e+09</td>\n",
       "      <td>215440.0</td>\n",
       "      <td>stream5: TCP Small Segment Threshold Exceeded</td>\n",
       "      <td>12.0</td>\n",
       "      <td>2018-02-23 19:03:13</td>\n",
       "      <td>12.190.216.231-172.31.65.29-57633-445-2018-02-...</td>\n",
       "      <td>False</td>\n",
       "      <td>True</td>\n",
       "      <td>2018-02-22 14:12:18</td>\n",
       "      <td>2018-02-23 19:03:13</td>\n",
       "    </tr>\n",
       "    <tr>\n",
       "      <th>287067</th>\n",
       "      <td>12.190.216.231</td>\n",
       "      <td>172.31.65.29</td>\n",
       "      <td>49961.0</td>\n",
       "      <td>445.0</td>\n",
       "      <td>6.0</td>\n",
       "      <td>1.519423e+09</td>\n",
       "      <td>429808.0</td>\n",
       "      <td>stream5: TCP Small Segment Threshold Exceeded</td>\n",
       "      <td>12.0</td>\n",
       "      <td>2018-02-23 19:03:16</td>\n",
       "      <td>12.190.216.231-172.31.65.29-49961-445-2018-02-...</td>\n",
       "      <td>False</td>\n",
       "      <td>True</td>\n",
       "      <td>2018-02-22 14:12:18</td>\n",
       "      <td>2018-02-23 19:03:16</td>\n",
       "    </tr>\n",
       "    <tr>\n",
       "      <th>287146</th>\n",
       "      <td>203.144.93.85</td>\n",
       "      <td>172.31.65.29</td>\n",
       "      <td>21030.0</td>\n",
       "      <td>445.0</td>\n",
       "      <td>6.0</td>\n",
       "      <td>1.519424e+09</td>\n",
       "      <td>655359.0</td>\n",
       "      <td>stream5: TCP Small Segment Threshold Exceeded</td>\n",
       "      <td>12.0</td>\n",
       "      <td>2018-02-23 19:08:31</td>\n",
       "      <td>203.144.93.85-172.31.65.29-21030-445-2018-02-2...</td>\n",
       "      <td>False</td>\n",
       "      <td>True</td>\n",
       "      <td>2018-02-22 14:12:28</td>\n",
       "      <td>2018-02-23 19:08:31</td>\n",
       "    </tr>\n",
       "    <tr>\n",
       "      <th>287149</th>\n",
       "      <td>203.144.93.85</td>\n",
       "      <td>172.31.65.29</td>\n",
       "      <td>21031.0</td>\n",
       "      <td>445.0</td>\n",
       "      <td>6.0</td>\n",
       "      <td>1.519424e+09</td>\n",
       "      <td>496448.0</td>\n",
       "      <td>stream5: TCP Small Segment Threshold Exceeded</td>\n",
       "      <td>12.0</td>\n",
       "      <td>2018-02-23 19:08:36</td>\n",
       "      <td>203.144.93.85-172.31.65.29-21031-445-2018-02-2...</td>\n",
       "      <td>False</td>\n",
       "      <td>True</td>\n",
       "      <td>2018-02-22 14:12:29</td>\n",
       "      <td>2018-02-23 19:08:36</td>\n",
       "    </tr>\n",
       "  </tbody>\n",
       "</table>\n",
       "<p>59377 rows × 15 columns</p>\n",
       "</div>"
      ],
      "text/plain": [
       "        event.source-ip event.destination-ip  event.sport-itype  \\\n",
       "15      201.208.203.144         172.31.64.95            61747.0   \n",
       "24      201.208.203.144         172.31.64.95            62699.0   \n",
       "85       188.163.110.18         172.31.65.81            63292.0   \n",
       "89      180.151.226.211        172.31.64.115            51335.0   \n",
       "102      188.163.110.18         172.31.65.81            62804.0   \n",
       "...                 ...                  ...                ...   \n",
       "287050     128.73.35.74         172.31.65.29            58216.0   \n",
       "287065   12.190.216.231         172.31.65.29            57633.0   \n",
       "287067   12.190.216.231         172.31.65.29            49961.0   \n",
       "287146    203.144.93.85         172.31.65.29            21030.0   \n",
       "287149    203.144.93.85         172.31.65.29            21031.0   \n",
       "\n",
       "        event.dport-icode  event.protocol  event.event-second  \\\n",
       "15                  445.0             6.0        1.519302e+09   \n",
       "24                  445.0             6.0        1.519302e+09   \n",
       "85                  445.0             6.0        1.519302e+09   \n",
       "89                  445.0             6.0        1.519302e+09   \n",
       "102                 445.0             6.0        1.519302e+09   \n",
       "...                   ...             ...                 ...   \n",
       "287050              445.0             6.0        1.519423e+09   \n",
       "287065              445.0             6.0        1.519423e+09   \n",
       "287067              445.0             6.0        1.519423e+09   \n",
       "287146              445.0             6.0        1.519424e+09   \n",
       "287149              445.0             6.0        1.519424e+09   \n",
       "\n",
       "        event.event-microsecond  \\\n",
       "15                     528384.0   \n",
       "24                     620100.0   \n",
       "85                     995894.0   \n",
       "89                     374869.0   \n",
       "102                    822582.0   \n",
       "...                         ...   \n",
       "287050                 362241.0   \n",
       "287065                 215440.0   \n",
       "287067                 429808.0   \n",
       "287146                 655359.0   \n",
       "287149                 496448.0   \n",
       "\n",
       "                                            event.msg  event.signature-id  \\\n",
       "15      stream5: TCP Small Segment Threshold Exceeded                12.0   \n",
       "24      stream5: TCP Small Segment Threshold Exceeded                12.0   \n",
       "85      stream5: TCP Small Segment Threshold Exceeded                12.0   \n",
       "89      stream5: TCP Small Segment Threshold Exceeded                12.0   \n",
       "102     stream5: TCP Small Segment Threshold Exceeded                12.0   \n",
       "...                                               ...                 ...   \n",
       "287050  stream5: TCP Small Segment Threshold Exceeded                12.0   \n",
       "287065  stream5: TCP Small Segment Threshold Exceeded                12.0   \n",
       "287067  stream5: TCP Small Segment Threshold Exceeded                12.0   \n",
       "287146  stream5: TCP Small Segment Threshold Exceeded                12.0   \n",
       "287149  stream5: TCP Small Segment Threshold Exceeded                12.0   \n",
       "\n",
       "                       date  \\\n",
       "15      2018-02-22 09:22:31   \n",
       "24      2018-02-22 09:22:35   \n",
       "85      2018-02-22 09:22:51   \n",
       "89      2018-02-22 09:22:52   \n",
       "102     2018-02-22 09:22:55   \n",
       "...                     ...   \n",
       "287050  2018-02-23 19:02:20   \n",
       "287065  2018-02-23 19:03:13   \n",
       "287067  2018-02-23 19:03:16   \n",
       "287146  2018-02-23 19:08:31   \n",
       "287149  2018-02-23 19:08:36   \n",
       "\n",
       "                                                       id  positives  Common  \\\n",
       "15      201.208.203.144-172.31.64.95-61747-445-2018-02...      False    True   \n",
       "24      201.208.203.144-172.31.64.95-62699-445-2018-02...      False    True   \n",
       "85      188.163.110.18-172.31.65.81-63292-445-2018-02-...      False    True   \n",
       "89      180.151.226.211-172.31.64.115-51335-445-2018-0...      False    True   \n",
       "102     188.163.110.18-172.31.65.81-62804-445-2018-02-...      False    True   \n",
       "...                                                   ...        ...     ...   \n",
       "287050  128.73.35.74-172.31.65.29-58216-445-2018-02-23...      False    True   \n",
       "287065  12.190.216.231-172.31.65.29-57633-445-2018-02-...      False    True   \n",
       "287067  12.190.216.231-172.31.65.29-49961-445-2018-02-...      False    True   \n",
       "287146  203.144.93.85-172.31.65.29-21030-445-2018-02-2...      False    True   \n",
       "287149  203.144.93.85-172.31.65.29-21031-445-2018-02-2...      False    True   \n",
       "\n",
       "         suricata_timestamp      snort_timestamp  \n",
       "15      2018-02-22 09:22:37  2018-02-22 09:22:31  \n",
       "24      2018-02-22 09:22:39  2018-02-22 09:22:35  \n",
       "85      2018-02-22 09:22:53  2018-02-22 09:22:51  \n",
       "89      2018-02-22 09:22:54  2018-02-22 09:22:52  \n",
       "102     2018-02-22 09:22:56  2018-02-22 09:22:55  \n",
       "...                     ...                  ...  \n",
       "287050  2018-02-22 14:13:34  2018-02-23 19:02:20  \n",
       "287065  2018-02-22 14:12:18  2018-02-23 19:03:13  \n",
       "287067  2018-02-22 14:12:18  2018-02-23 19:03:16  \n",
       "287146  2018-02-22 14:12:28  2018-02-23 19:08:31  \n",
       "287149  2018-02-22 14:12:29  2018-02-23 19:08:36  \n",
       "\n",
       "[59377 rows x 15 columns]"
      ]
     },
     "execution_count": 37,
     "metadata": {},
     "output_type": "execute_result"
    }
   ],
   "source": [
    "Diversity_ds3_2017"
   ]
  },
  {
   "cell_type": "code",
   "execution_count": 38,
   "metadata": {},
   "outputs": [],
   "source": [
    "Diversity_ds3_2017_csv=Diversity_ds3_2017[['snort_timestamp','id','suricata_timestamp','positives']]\n",
    "Diversity_ds3_2018_csv=Diversity_ds3_2018[['snort_timestamp','id','suricata_timestamp','positives']]\n",
    "Diversity_ds3_2019_csv=Diversity_ds3_2019[['snort_timestamp','id','suricata_timestamp','positives']]\n",
    "Diversity_ds3_2020_csv=Diversity_ds3_2020[['snort_timestamp','id','suricata_timestamp','positives']]"
   ]
  },
  {
   "cell_type": "code",
   "execution_count": 84,
   "metadata": {},
   "outputs": [],
   "source": [
    "Diversity_2017_csv=Diversity_2017[['snort_timestamp','id','suricata_timestamp','positives']]\n",
    "Diversity_2018_csv=Diversity_2018[['snort_timestamp','id','suricata_timestamp','positives']]\n",
    "Diversity_2019_csv=Diversity_2019[['snort_timestamp','id','suricata_timestamp','positives']]\n",
    "Diversity_2020_csv=Diversity_2020[['snort_timestamp','id','suricata_timestamp','positives']]"
   ]
  },
  {
   "cell_type": "code",
   "execution_count": 40,
   "metadata": {},
   "outputs": [],
   "source": [
    "Diversity_ds3_2017_csv.to_csv('/home/exp-1/Desktop/data/Diversity/Diversity_ds3_2017.csv', index=False)\n",
    "Diversity_ds3_2018_csv.to_csv('/home/exp-1/Desktop/data/Diversity/Diversity_ds3_2018.csv', index=False)\n",
    "Diversity_ds3_2019_csv.to_csv('/home/exp-1/Desktop/data/Diversity/Diversity_ds3_2019.csv', index=False)\n",
    "Diversity_ds3_2020_csv.to_csv('/home/exp-1/Desktop/data/Diversity/Diversity_ds3_2020.csv', index=False)"
   ]
  },
  {
   "cell_type": "code",
   "execution_count": 85,
   "metadata": {},
   "outputs": [],
   "source": [
    "Diversity_2017_csv.to_csv('/home/exp-1/Desktop/data/Diversity/Diversity_ds2_2017.csv', index=False)\n",
    "Diversity_2018_csv.to_csv('/home/exp-1/Desktop/data/Diversity/Diversity_ds2_2018.csv', index=False)\n",
    "Diversity_2019_csv.to_csv('/home/exp-1/Desktop/data/Diversity/Diversity_ds2_2019.csv', index=False)\n",
    "Diversity_2020_csv.to_csv('/home/exp-1/Desktop/data/Diversity/Diversity_ds2_2020.csv', index=False)"
   ]
  },
  {
   "cell_type": "code",
   "execution_count": 105,
   "metadata": {},
   "outputs": [
    {
     "name": "stdout",
     "output_type": "stream",
     "text": [
      "False    99\n",
      "True      7\n",
      "Name: positives, dtype: int64\n"
     ]
    }
   ],
   "source": [
    "print(Diversity_2018_csv['positives'].value_counts())\n"
   ]
  },
  {
   "cell_type": "code",
   "execution_count": 89,
   "metadata": {},
   "outputs": [
    {
     "data": {
      "text/plain": [
       "0         111.254.182.44-172.31.64.65-58782-445-2018-02-...\n",
       "1         212.92.124.21-172.31.64.46-57290-3389-2018-02-...\n",
       "2         185.130.227.35-172.31.64.46-39960-3389-2018-02...\n",
       "3         31.13.71.52-172.31.64.26-443-49471-2018-02-22 ...\n",
       "4         31.13.71.52-172.31.64.26-443-49471-2018-02-22 ...\n",
       "                                ...                        \n",
       "287177    213.202.230.217-172.31.65.29-29008-3389-2018-0...\n",
       "287178    213.202.230.217-172.31.65.29-31221-3389-2018-0...\n",
       "287179    213.202.230.217-172.31.65.29-33449-3389-2018-0...\n",
       "287180    213.202.230.217-172.31.65.29-35705-3389-2018-0...\n",
       "287181    213.202.230.217-172.31.65.29-37853-3389-2018-0...\n",
       "Name: id, Length: 287182, dtype: object"
      ]
     },
     "execution_count": 89,
     "metadata": {},
     "output_type": "execute_result"
    }
   ],
   "source": [
    "snort_ds3_2019['id']"
   ]
  },
  {
   "cell_type": "code",
   "execution_count": 54,
   "metadata": {},
   "outputs": [
    {
     "data": {
      "text/plain": [
       "0         172.31.64.38-203.78.142.45-3389-12029-2018-02-...\n",
       "1         201.208.203.144-172.31.64.95-61747-445-2018-02...\n",
       "2         172.31.64.122-185.222.56.84-3389-2376-2018-02-...\n",
       "3         172.31.64.46-54.172.47.69-57864-3478-2018-02-2...\n",
       "4         172.31.64.46-54.172.47.69-57864-3478-2018-02-2...\n",
       "                                ...                        \n",
       "947296    172.31.65.29-185.15.189.171-3389-23659-2018-02...\n",
       "947297    172.31.65.29-141.105.71.81-3389-56434-2018-02-...\n",
       "947298    172.31.65.29-212.92.116.6-3389-51737-2018-02-2...\n",
       "947299    172.31.65.29-203.78.142.45-3389-26554-2018-02-...\n",
       "947300    172.31.65.29-183.134.62.132-3389-51316-2018-02...\n",
       "Name: id, Length: 947301, dtype: object"
      ]
     },
     "execution_count": 54,
     "metadata": {},
     "output_type": "execute_result"
    }
   ],
   "source": [
    "suricata_ds3_2017['id']"
   ]
  },
  {
   "cell_type": "code",
   "execution_count": null,
   "metadata": {},
   "outputs": [],
   "source": []
  }
 ],
 "metadata": {
  "kernelspec": {
   "display_name": "Python 3",
   "language": "python",
   "name": "python3"
  },
  "language_info": {
   "codemirror_mode": {
    "name": "ipython",
    "version": 3
   },
   "file_extension": ".py",
   "mimetype": "text/x-python",
   "name": "python",
   "nbconvert_exporter": "python",
   "pygments_lexer": "ipython3",
   "version": "3.8.10"
  }
 },
 "nbformat": 4,
 "nbformat_minor": 4
}
