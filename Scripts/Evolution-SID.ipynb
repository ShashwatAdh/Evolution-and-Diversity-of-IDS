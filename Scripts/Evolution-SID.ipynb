{
 "cells": [
  {
   "cell_type": "code",
   "execution_count": 1,
   "metadata": {},
   "outputs": [],
   "source": [
    "import pandas as pd"
   ]
  },
  {
   "cell_type": "code",
   "execution_count": null,
   "metadata": {},
   "outputs": [],
   "source": []
  },
  {
   "cell_type": "code",
   "execution_count": 2,
   "metadata": {},
   "outputs": [],
   "source": [
    "snort_ds2_2017=pd.read_csv('/home/exp-1/Desktop/data/Alerts/Alerts_csv/snort_ds2/snort_ds2_2017.csv')\n",
    "snort_ds2_2018=pd.read_csv('/home/exp-1/Desktop/data/Alerts/Alerts_csv/snort_ds2/snort_ds2_2018.csv')\n",
    "snort_ds2_2019=pd.read_csv('/home/exp-1/Desktop/data/Alerts/Alerts_csv/snort_ds2/snort_ds2_2019.csv')\n",
    "snort_ds2_2020=pd.read_csv('/home/exp-1/Desktop/data/Alerts/Alerts_csv/snort_ds2/snort_ds2_2020.csv')\n",
    "suricata_ds2_2017=pd.read_csv('/home/exp-1/Desktop/data/Alerts/Alerts_csv/suricata_ds2/suricata_ds2_2017.csv')\n",
    "suricata_ds2_2018=pd.read_csv('/home/exp-1/Desktop/data/Alerts/Alerts_csv/suricata_ds2/suricata_ds2_2018.csv')\n",
    "suricata_ds2_2019=pd.read_csv('/home/exp-1/Desktop/data/Alerts/Alerts_csv/suricata_ds2/suricata_ds2_2019.csv')\n",
    "suricata_ds2_2020=pd.read_csv('/home/exp-1/Desktop/data/Alerts/Alerts_csv/suricata_ds2/suricata_ds2_2020.csv')"
   ]
  },
  {
   "cell_type": "code",
   "execution_count": 19,
   "metadata": {},
   "outputs": [],
   "source": [
    "snort_ds3_2017=pd.read_csv('/home/exp-1/Desktop/data/Alerts/Alerts_csv/snort_ds3/snort_ds3_2017.csv')\n",
    "snort_ds3_2018=pd.read_csv('/home/exp-1/Desktop/data/Alerts/Alerts_csv/snort_ds3/snort_ds3_2018.csv')\n",
    "snort_ds3_2019=pd.read_csv('/home/exp-1/Desktop/data/Alerts/Alerts_csv/snort_ds3/snort_ds3_2019.csv')\n",
    "snort_ds3_2020=pd.read_csv('/home/exp-1/Desktop/data/Alerts/Alerts_csv/snort_ds3/snort_ds3_2020.csv')\n",
    "suricata_ds3_2017=pd.read_csv('/home/exp-1/Desktop/data/Alerts/Alerts_csv/suricata_ds3/suricata_ds3_2017.csv')\n",
    "suricata_ds3_2018=pd.read_csv('/home/exp-1/Desktop/data/Alerts/Alerts_csv/suricata_ds3/suricata_ds3_2018.csv')\n",
    "suricata_ds3_2019=pd.read_csv('/home/exp-1/Desktop/data/Alerts/Alerts_csv/suricata_ds3/suricata_ds3_2019.csv')\n",
    "suricata_ds3_2020=pd.read_csv('/home/exp-1/Desktop/data/Alerts/Alerts_csv/suricata_ds3/suricata_ds3_2020.csv')"
   ]
  },
  {
   "cell_type": "code",
   "execution_count": 20,
   "metadata": {},
   "outputs": [],
   "source": [
    "df_sid=pd.DataFrame()\n",
    "df_sid[\"sid\"] = pd.concat([snort_ds3_2017[\"event.signature-id\"], snort_ds3_2018[\"event.signature-id\"],snort_ds3_2019[\"event.signature-id\"],snort_ds3_2020[\"event.signature-id\"]],ignore_index=True)"
   ]
  },
  {
   "cell_type": "code",
   "execution_count": 12,
   "metadata": {},
   "outputs": [],
   "source": [
    "#suricata_ds2_2017"
   ]
  },
  {
   "cell_type": "code",
   "execution_count": 42,
   "metadata": {},
   "outputs": [],
   "source": [
    "df_sid_su=pd.DataFrame()\n",
    "df_sid_su['sid'] = pd.concat([suricata_ds3_2017['alert.signature_id'], suricata_ds3_2018['alert.signature_id'], suricata_ds3_2019['alert.signature_id'], suricata_ds3_2020['alert.signature_id']], ignore_index=True)"
   ]
  },
  {
   "cell_type": "code",
   "execution_count": 22,
   "metadata": {},
   "outputs": [],
   "source": [
    "df_sid=df_sid.drop_duplicates().reset_index()"
   ]
  },
  {
   "cell_type": "code",
   "execution_count": 43,
   "metadata": {},
   "outputs": [],
   "source": [
    "df_sid_su=df_sid_su.drop_duplicates().reset_index()"
   ]
  },
  {
   "cell_type": "code",
   "execution_count": 6,
   "metadata": {},
   "outputs": [],
   "source": [
    "#df_sid[\"2017\"]=df_sid[\"sid\"].isin(snort_ds2_2017[\"event.signature-id\"])\n",
    "#df_sid[\"2018\"]=df_sid[\"sid\"].isin(snort_ds2_2018[\"event.signature-id\"])\n",
    "#df_sid[\"2019\"]=df_sid[\"sid\"].isin(snort_ds2_2019[\"event.signature-id\"])\n",
    "#df_sid[\"2020\"]=df_sid[\"sid\"].isin(snort_ds2_2020[\"event.signature-id\"])"
   ]
  },
  {
   "cell_type": "code",
   "execution_count": 24,
   "metadata": {},
   "outputs": [],
   "source": [
    "count = snort_ds3_2017['event.signature-id'].value_counts()\n",
    "df_count_17 = pd.DataFrame(count)\n",
    "df_count_17 = df_count_17.reset_index()\n",
    "df_count_17.columns = [\"sid\", \"2017\"]\n",
    "\n",
    "count = snort_ds3_2018['event.signature-id'].value_counts()\n",
    "df_count_18 = pd.DataFrame(count)\n",
    "df_count_18 = df_count_18.reset_index()\n",
    "df_count_18.columns = [\"sid\", \"2018\"]\n",
    "\n",
    "count = snort_ds3_2019['event.signature-id'].value_counts()\n",
    "df_count_19 = pd.DataFrame(count)\n",
    "df_count_19 = df_count_19.reset_index()\n",
    "df_count_19.columns = [\"sid\", \"2019\"]\n",
    "\n",
    "count = snort_ds3_2020['event.signature-id'].value_counts()\n",
    "df_count_20 = pd.DataFrame(count)\n",
    "df_count_20 = df_count_20.reset_index()\n",
    "df_count_20.columns = [\"sid\", \"2020\"]"
   ]
  },
  {
   "cell_type": "code",
   "execution_count": 44,
   "metadata": {},
   "outputs": [],
   "source": [
    "count = suricata_ds3_2017['alert.signature_id'].value_counts()\n",
    "df_count_17_su = pd.DataFrame(count)\n",
    "df_count_17_su = df_count_17_su.reset_index()\n",
    "df_count_17_su.columns = [\"sid\", \"2017\"]\n",
    "\n",
    "count = suricata_ds3_2018['alert.signature_id'].value_counts()\n",
    "df_count_18_su = pd.DataFrame(count)\n",
    "df_count_18_su = df_count_18_su.reset_index()\n",
    "df_count_18_su.columns = [\"sid\", \"2018\"]\n",
    "\n",
    "count = suricata_ds3_2019['alert.signature_id'].value_counts()\n",
    "df_count_19_su = pd.DataFrame(count)\n",
    "df_count_19_su = df_count_19_su.reset_index()\n",
    "df_count_19_su.columns = [\"sid\", \"2019\"]\n",
    "\n",
    "count = suricata_ds3_2020['alert.signature_id'].value_counts()\n",
    "df_count_20_su = pd.DataFrame(count)\n",
    "df_count_20_su = df_count_20_su.reset_index()\n",
    "df_count_20_su.columns = [\"sid\", \"2020\"]"
   ]
  },
  {
   "cell_type": "code",
   "execution_count": 26,
   "metadata": {},
   "outputs": [],
   "source": [
    "df_sid = pd.DataFrame.merge(df_sid, df_count_17, on='sid', how=\"left\")\n",
    "df_sid = pd.DataFrame.merge(df_sid, df_count_18, on='sid', how=\"left\")\n",
    "df_sid = pd.DataFrame.merge(df_sid, df_count_19, on='sid', how=\"left\")\n",
    "df_sid = pd.DataFrame.merge(df_sid, df_count_20, on='sid', how=\"left\")"
   ]
  },
  {
   "cell_type": "code",
   "execution_count": 45,
   "metadata": {},
   "outputs": [],
   "source": [
    "df_sid_su = pd.DataFrame.merge(df_sid_su, df_count_17_su, on='sid', how=\"left\")\n",
    "df_sid_su = pd.DataFrame.merge(df_sid_su, df_count_18_su, on='sid', how=\"left\")\n",
    "df_sid_su = pd.DataFrame.merge(df_sid_su, df_count_19_su, on='sid', how=\"left\")\n",
    "df_sid_su = pd.DataFrame.merge(df_sid_su, df_count_20_su, on='sid', how=\"left\")"
   ]
  },
  {
   "cell_type": "code",
   "execution_count": 56,
   "metadata": {},
   "outputs": [],
   "source": []
  },
  {
   "cell_type": "code",
   "execution_count": 47,
   "metadata": {},
   "outputs": [],
   "source": [
    "df_sid_su = df_sid_su.sort_values(by=['sid'])"
   ]
  },
  {
   "cell_type": "code",
   "execution_count": 58,
   "metadata": {},
   "outputs": [],
   "source": [
    "f=open('/home/exp-1/Desktop/data/suricata_sid_ds3.txt', 'w')\n",
    "print(df_sid_su['sid'], file=f)\n",
    "f.close()"
   ]
  },
  {
   "cell_type": "code",
   "execution_count": 29,
   "metadata": {},
   "outputs": [],
   "source": [
    "df_sid.to_csv(\"/home/exp-1/Desktop/data/snort_sid_ds3.csv\", index=False)"
   ]
  },
  {
   "cell_type": "code",
   "execution_count": 59,
   "metadata": {},
   "outputs": [],
   "source": [
    "df_sid_su.to_csv(\"/home/exp-1/Desktop/data/suricata_sid_ds3_sidtest.csv\", index=True)"
   ]
  },
  {
   "cell_type": "code",
   "execution_count": 4,
   "metadata": {},
   "outputs": [
    {
     "data": {
      "text/plain": [
       "192.168.10.16-91.189.88.149-34460-80-2017-07-06T05:12:13.250467-0700     20\n",
       "192.168.10.8-205.174.165.73-54119-444-2017-07-06T10:28:51.519745-0700    12\n",
       "192.168.10.51-91.189.95.83-54677-80-2017-07-06T05:34:49.118664-0700      12\n",
       "192.168.10.51-91.189.95.83-54677-80-2017-07-06T05:34:48.729345-0700      12\n",
       "192.168.10.51-91.189.88.161-59425-80-2017-07-06T05:34:49.231075-0700     12\n",
       "                                                                         ..\n",
       "192.168.10.8-205.174.165.73-54119-444-2017-07-06T10:29:06.000208-0700     1\n",
       "192.168.10.8-205.174.165.73-54119-444-2017-07-06T10:29:05.900206-0700     1\n",
       "192.168.10.8-205.174.165.73-54119-444-2017-07-06T10:29:05.800133-0700     1\n",
       "192.168.10.8-205.174.165.73-54119-444-2017-07-06T10:29:05.700189-0700     1\n",
       "192.168.10.3-192.168.10.1-62456-53-2017-07-06T12:54:41.620939-0700        1\n",
       "Name: id, Length: 25703, dtype: int64"
      ]
     },
     "execution_count": 4,
     "metadata": {},
     "output_type": "execute_result"
    }
   ],
   "source": [
    "df_enum['id'].value_counts()"
   ]
  },
  {
   "cell_type": "code",
   "execution_count": 5,
   "metadata": {},
   "outputs": [
    {
     "ename": "NameError",
     "evalue": "name 'df1' is not defined",
     "output_type": "error",
     "traceback": [
      "\u001b[0;31m---------------------------------------------------------------------------\u001b[0m",
      "\u001b[0;31mNameError\u001b[0m                                 Traceback (most recent call last)",
      "\u001b[0;32m<ipython-input-5-9ec480f27c01>\u001b[0m in \u001b[0;36m<module>\u001b[0;34m\u001b[0m\n\u001b[0;32m----> 1\u001b[0;31m \u001b[0mprint\u001b[0m\u001b[0;34m(\u001b[0m\u001b[0mdf1\u001b[0m\u001b[0;34m)\u001b[0m\u001b[0;34m\u001b[0m\u001b[0;34m\u001b[0m\u001b[0m\n\u001b[0m",
      "\u001b[0;31mNameError\u001b[0m: name 'df1' is not defined"
     ]
    }
   ],
   "source": [
    "print(df1)"
   ]
  },
  {
   "cell_type": "code",
   "execution_count": 6,
   "metadata": {},
   "outputs": [],
   "source": [
    "df1 = pd.read_csv('/home/exp-1/Desktop/data/Alerts/Alerts_csv/ds2_suricata/2017.csv')\n",
    "df2 = pd.read_csv('/home/exp-1/Desktop/data/Alerts/Alerts_csv/ds2_suricata/2018.csv')\n",
    "df3 = pd.read_csv('/home/exp-1/Desktop/data/Alerts/Alerts_csv/ds2_suricata/2019.csv')\n",
    "df4 = pd.read_csv('/home/exp-1/Desktop/data/Alerts/Alerts_csv/ds2_suricata/2020.csv')"
   ]
  },
  {
   "cell_type": "code",
   "execution_count": 7,
   "metadata": {},
   "outputs": [],
   "source": [
    "df_enum['2017'] = df_enum['id'].isin(df1['id'])\n",
    "df_enum['2018'] = df_enum['id'].isin(df2['id'])\n",
    "df_enum['2019'] = df_enum['id'].isin(df3['id'])\n",
    "df_enum['2020'] = df_enum['id'].isin(df4['id'])"
   ]
  },
  {
   "cell_type": "code",
   "execution_count": null,
   "metadata": {},
   "outputs": [],
   "source": []
  },
  {
   "cell_type": "code",
   "execution_count": 8,
   "metadata": {},
   "outputs": [
    {
     "data": {
      "text/plain": [
       "True     95110\n",
       "False     2256\n",
       "Name: 2017, dtype: int64"
      ]
     },
     "execution_count": 8,
     "metadata": {},
     "output_type": "execute_result"
    }
   ],
   "source": [
    "df_enum['2017'].value_counts()"
   ]
  },
  {
   "cell_type": "code",
   "execution_count": 9,
   "metadata": {},
   "outputs": [
    {
     "data": {
      "text/plain": [
       "True     95232\n",
       "False     2134\n",
       "Name: 2018, dtype: int64"
      ]
     },
     "execution_count": 9,
     "metadata": {},
     "output_type": "execute_result"
    }
   ],
   "source": [
    "df_enum['2018'].value_counts()"
   ]
  },
  {
   "cell_type": "code",
   "execution_count": 10,
   "metadata": {},
   "outputs": [
    {
     "data": {
      "text/plain": [
       "True     95363\n",
       "False     2003\n",
       "Name: 2019, dtype: int64"
      ]
     },
     "execution_count": 10,
     "metadata": {},
     "output_type": "execute_result"
    }
   ],
   "source": [
    "df_enum['2019'].value_counts()"
   ]
  },
  {
   "cell_type": "code",
   "execution_count": 11,
   "metadata": {},
   "outputs": [
    {
     "data": {
      "text/plain": [
       "True     96101\n",
       "False     1265\n",
       "Name: 2020, dtype: int64"
      ]
     },
     "execution_count": 11,
     "metadata": {},
     "output_type": "execute_result"
    }
   ],
   "source": [
    "df_enum['2020'].value_counts()"
   ]
  },
  {
   "cell_type": "code",
   "execution_count": 13,
   "metadata": {},
   "outputs": [],
   "source": [
    "df_enum.to_csv(\"/home/exp-1/Desktop/data/Alerts/ds3_suricata_evolution.csv\", index=False)"
   ]
  },
  {
   "cell_type": "code",
   "execution_count": 71,
   "metadata": {},
   "outputs": [],
   "source": [
    "df_evo=pd.read_csv(\"/home/exp-1/Desktop/data/Alerts/ds3_suricata_evo_proc.csv\")"
   ]
  },
  {
   "cell_type": "code",
   "execution_count": 72,
   "metadata": {},
   "outputs": [
    {
     "name": "stdout",
     "output_type": "stream",
     "text": [
      "              id  2017  2017.1  2017.2  2017.3  2017.4  2017.5  2017.6  \\\n",
      "0              1     1       1       1       1       1       1       1   \n",
      "1              2     1       1       1       1       1       1       1   \n",
      "2              3     1       1       1       1       1       1       1   \n",
      "3              4     1       1       1       1       1       1       1   \n",
      "4              5     1       1       1       1       1       1       1   \n",
      "...          ...   ...     ...     ...     ...     ...     ...     ...   \n",
      "1048570  1048571     1       1       1       1       1       1       1   \n",
      "1048571  1048572     1       1       1       1       1       1       1   \n",
      "1048572  1048573     1       1       1       1       1       1       1   \n",
      "1048573  1048574     0       0       0       0       0       0       0   \n",
      "1048574  1048575     1       1       1       1       1       1       1   \n",
      "\n",
      "         2017.7  2017.8  ...  2020.11  2020.12  2020.13  2020.14  2020.15  \\\n",
      "0             1       1  ...        1        1        1        1        1   \n",
      "1             1       1  ...        1        1        1        1        1   \n",
      "2             1       1  ...        1        1        1        1        1   \n",
      "3             1       1  ...        1        1        1        1        1   \n",
      "4             1       1  ...        1        1        1        1        1   \n",
      "...         ...     ...  ...      ...      ...      ...      ...      ...   \n",
      "1048570       1       1  ...        1        1        1        1        1   \n",
      "1048571       1       1  ...        1        1        1        1        1   \n",
      "1048572       1       1  ...        1        1        1        1        1   \n",
      "1048573       0       0  ...        0        0        0        0        0   \n",
      "1048574       1       1  ...        1        1        1        1        1   \n",
      "\n",
      "         2020.16  2020.17  2020.18  2020.19  2020.20  \n",
      "0              1        1        1        1        1  \n",
      "1              1        1        1        1        1  \n",
      "2              1        1        1        1        1  \n",
      "3              1        1        1        1        1  \n",
      "4              1        1        1        1        1  \n",
      "...          ...      ...      ...      ...      ...  \n",
      "1048570        1        1        1        1        1  \n",
      "1048571        1        1        1        1        1  \n",
      "1048572        1        1        1        1        1  \n",
      "1048573        0        0        0        0        0  \n",
      "1048574        1        1        1        1        1  \n",
      "\n",
      "[1048575 rows x 82 columns]\n"
     ]
    }
   ],
   "source": [
    "print(df_evo)"
   ]
  },
  {
   "cell_type": "code",
   "execution_count": 64,
   "metadata": {},
   "outputs": [],
   "source": [
    "df_evo['id']= df_evo.index+1"
   ]
  },
  {
   "cell_type": "code",
   "execution_count": 65,
   "metadata": {},
   "outputs": [
    {
     "name": "stdout",
     "output_type": "stream",
     "text": [
      "              id   2017  2017.1  2017.2  2017.3  2017.4  2017.5  2017.6  \\\n",
      "0              1   True    True    True    True    True    True    True   \n",
      "1              2   True    True    True    True    True    True    True   \n",
      "2              3   True    True    True    True    True    True    True   \n",
      "3              4   True    True    True    True    True    True    True   \n",
      "4              5   True    True    True    True    True    True    True   \n",
      "...          ...    ...     ...     ...     ...     ...     ...     ...   \n",
      "1048570  1048571   True    True    True    True    True    True    True   \n",
      "1048571  1048572   True    True    True    True    True    True    True   \n",
      "1048572  1048573   True    True    True    True    True    True    True   \n",
      "1048573  1048574  False   False   False   False   False   False   False   \n",
      "1048574  1048575   True    True    True    True    True    True    True   \n",
      "\n",
      "         2017.7  2017.8  ...  2020.11  2020.12  2020.13  2020.14  2020.15  \\\n",
      "0          True    True  ...     True     True     True     True     True   \n",
      "1          True    True  ...     True     True     True     True     True   \n",
      "2          True    True  ...     True     True     True     True     True   \n",
      "3          True    True  ...     True     True     True     True     True   \n",
      "4          True    True  ...     True     True     True     True     True   \n",
      "...         ...     ...  ...      ...      ...      ...      ...      ...   \n",
      "1048570    True    True  ...     True     True     True     True     True   \n",
      "1048571    True    True  ...     True     True     True     True     True   \n",
      "1048572    True    True  ...     True     True     True     True     True   \n",
      "1048573   False   False  ...    False    False    False    False    False   \n",
      "1048574    True    True  ...     True     True     True     True     True   \n",
      "\n",
      "         2020.16  2020.17  2020.18  2020.19  2020.20  \n",
      "0           True     True     True     True     True  \n",
      "1           True     True     True     True     True  \n",
      "2           True     True     True     True     True  \n",
      "3           True     True     True     True     True  \n",
      "4           True     True     True     True     True  \n",
      "...          ...      ...      ...      ...      ...  \n",
      "1048570     True     True     True     True     True  \n",
      "1048571     True     True     True     True     True  \n",
      "1048572     True     True     True     True     True  \n",
      "1048573    False    False    False    False    False  \n",
      "1048574     True     True     True     True     True  \n",
      "\n",
      "[1048575 rows x 82 columns]\n"
     ]
    }
   ],
   "source": [
    "print(df_evo)"
   ]
  },
  {
   "cell_type": "code",
   "execution_count": 66,
   "metadata": {},
   "outputs": [],
   "source": [
    "df_evo=df_evo*1"
   ]
  },
  {
   "cell_type": "code",
   "execution_count": 67,
   "metadata": {},
   "outputs": [],
   "source": [
    "#df_evo.to_csv(\"/home/exp-1/Desktop/data/Alerts/ds3_suricata_evo_proc.csv\",index=False)"
   ]
  },
  {
   "cell_type": "code",
   "execution_count": null,
   "metadata": {},
   "outputs": [],
   "source": []
  }
 ],
 "metadata": {
  "kernelspec": {
   "display_name": "Python 3",
   "language": "python",
   "name": "python3"
  },
  "language_info": {
   "codemirror_mode": {
    "name": "ipython",
    "version": 3
   },
   "file_extension": ".py",
   "mimetype": "text/x-python",
   "name": "python",
   "nbconvert_exporter": "python",
   "pygments_lexer": "ipython3",
   "version": "3.8.10"
  }
 },
 "nbformat": 4,
 "nbformat_minor": 4
}
