{
 "cells": [
  {
   "cell_type": "code",
   "execution_count": 1,
   "metadata": {},
   "outputs": [],
   "source": [
    "import pandas as pd\n"
   ]
  },
  {
   "cell_type": "code",
   "execution_count": 2,
   "metadata": {},
   "outputs": [],
   "source": [
    "df_enum = pd.concat(map(pd.read_csv, ['/home/exp-1/Desktop/data/Alerts/Alerts_csv/ds2_suricata/2017.csv', '/home/exp-1/Desktop/data/Alerts/Alerts_csv/ds2_suricata/2018.csv','/home/exp-1/Desktop/data/Alerts/Alerts_csv/ds2_suricata/2019.csv','/home/exp-1/Desktop/data/Alerts/Alerts_csv/ds2_suricata/2020.csv']))"
   ]
  },
  {
   "cell_type": "code",
   "execution_count": 3,
   "metadata": {},
   "outputs": [],
   "source": [
    "df_enum = df_enum[['id']].copy()"
   ]
  },
  {
   "cell_type": "code",
   "execution_count": 4,
   "metadata": {},
   "outputs": [
    {
     "data": {
      "text/plain": [
       "192.168.10.16-91.189.88.149-34460-80-2017-07-06T05:12:13.250467-0700     20\n",
       "192.168.10.8-205.174.165.73-54119-444-2017-07-06T10:28:51.519745-0700    12\n",
       "192.168.10.51-91.189.95.83-54677-80-2017-07-06T05:34:49.118664-0700      12\n",
       "192.168.10.51-91.189.95.83-54677-80-2017-07-06T05:34:48.729345-0700      12\n",
       "192.168.10.51-91.189.88.161-59425-80-2017-07-06T05:34:49.231075-0700     12\n",
       "                                                                         ..\n",
       "192.168.10.8-205.174.165.73-54119-444-2017-07-06T10:29:06.000208-0700     1\n",
       "192.168.10.8-205.174.165.73-54119-444-2017-07-06T10:29:05.900206-0700     1\n",
       "192.168.10.8-205.174.165.73-54119-444-2017-07-06T10:29:05.800133-0700     1\n",
       "192.168.10.8-205.174.165.73-54119-444-2017-07-06T10:29:05.700189-0700     1\n",
       "192.168.10.3-192.168.10.1-62456-53-2017-07-06T12:54:41.620939-0700        1\n",
       "Name: id, Length: 25703, dtype: int64"
      ]
     },
     "execution_count": 4,
     "metadata": {},
     "output_type": "execute_result"
    }
   ],
   "source": [
    "df_enum['id'].value_counts()"
   ]
  },
  {
   "cell_type": "code",
   "execution_count": 5,
   "metadata": {},
   "outputs": [
    {
     "ename": "NameError",
     "evalue": "name 'df1' is not defined",
     "output_type": "error",
     "traceback": [
      "\u001b[0;31m---------------------------------------------------------------------------\u001b[0m",
      "\u001b[0;31mNameError\u001b[0m                                 Traceback (most recent call last)",
      "\u001b[0;32m<ipython-input-5-9ec480f27c01>\u001b[0m in \u001b[0;36m<module>\u001b[0;34m\u001b[0m\n\u001b[0;32m----> 1\u001b[0;31m \u001b[0mprint\u001b[0m\u001b[0;34m(\u001b[0m\u001b[0mdf1\u001b[0m\u001b[0;34m)\u001b[0m\u001b[0;34m\u001b[0m\u001b[0;34m\u001b[0m\u001b[0m\n\u001b[0m",
      "\u001b[0;31mNameError\u001b[0m: name 'df1' is not defined"
     ]
    }
   ],
   "source": [
    "print(df1)"
   ]
  },
  {
   "cell_type": "code",
   "execution_count": 6,
   "metadata": {},
   "outputs": [],
   "source": [
    "df1 = pd.read_csv('/home/exp-1/Desktop/data/Alerts/Alerts_csv/ds2_suricata/2017.csv')\n",
    "df2 = pd.read_csv('/home/exp-1/Desktop/data/Alerts/Alerts_csv/ds2_suricata/2018.csv')\n",
    "df3 = pd.read_csv('/home/exp-1/Desktop/data/Alerts/Alerts_csv/ds2_suricata/2019.csv')\n",
    "df4 = pd.read_csv('/home/exp-1/Desktop/data/Alerts/Alerts_csv/ds2_suricata/2020.csv')"
   ]
  },
  {
   "cell_type": "code",
   "execution_count": 7,
   "metadata": {},
   "outputs": [],
   "source": [
    "df_enum['2017'] = df_enum['id'].isin(df1['id'])\n",
    "df_enum['2018'] = df_enum['id'].isin(df2['id'])\n",
    "df_enum['2019'] = df_enum['id'].isin(df3['id'])\n",
    "df_enum['2020'] = df_enum['id'].isin(df4['id'])"
   ]
  },
  {
   "cell_type": "code",
   "execution_count": null,
   "metadata": {},
   "outputs": [],
   "source": []
  },
  {
   "cell_type": "code",
   "execution_count": 8,
   "metadata": {},
   "outputs": [
    {
     "data": {
      "text/plain": [
       "True     95110\n",
       "False     2256\n",
       "Name: 2017, dtype: int64"
      ]
     },
     "execution_count": 8,
     "metadata": {},
     "output_type": "execute_result"
    }
   ],
   "source": [
    "df_enum['2017'].value_counts()"
   ]
  },
  {
   "cell_type": "code",
   "execution_count": 9,
   "metadata": {},
   "outputs": [
    {
     "data": {
      "text/plain": [
       "True     95232\n",
       "False     2134\n",
       "Name: 2018, dtype: int64"
      ]
     },
     "execution_count": 9,
     "metadata": {},
     "output_type": "execute_result"
    }
   ],
   "source": [
    "df_enum['2018'].value_counts()"
   ]
  },
  {
   "cell_type": "code",
   "execution_count": 10,
   "metadata": {},
   "outputs": [
    {
     "data": {
      "text/plain": [
       "True     95363\n",
       "False     2003\n",
       "Name: 2019, dtype: int64"
      ]
     },
     "execution_count": 10,
     "metadata": {},
     "output_type": "execute_result"
    }
   ],
   "source": [
    "df_enum['2019'].value_counts()"
   ]
  },
  {
   "cell_type": "code",
   "execution_count": 11,
   "metadata": {},
   "outputs": [
    {
     "data": {
      "text/plain": [
       "True     96101\n",
       "False     1265\n",
       "Name: 2020, dtype: int64"
      ]
     },
     "execution_count": 11,
     "metadata": {},
     "output_type": "execute_result"
    }
   ],
   "source": [
    "df_enum['2020'].value_counts()"
   ]
  },
  {
   "cell_type": "code",
   "execution_count": 13,
   "metadata": {},
   "outputs": [],
   "source": [
    "df_enum.to_csv(\"/home/exp-1/Desktop/data/Alerts/ds3_suricata_evolution.csv\", index=False)"
   ]
  },
  {
   "cell_type": "code",
   "execution_count": 71,
   "metadata": {},
   "outputs": [],
   "source": [
    "df_evo=pd.read_csv(\"/home/exp-1/Desktop/data/Alerts/ds3_suricata_evo_proc.csv\")"
   ]
  },
  {
   "cell_type": "code",
   "execution_count": 72,
   "metadata": {},
   "outputs": [
    {
     "name": "stdout",
     "output_type": "stream",
     "text": [
      "              id  2017  2017.1  2017.2  2017.3  2017.4  2017.5  2017.6  \\\n",
      "0              1     1       1       1       1       1       1       1   \n",
      "1              2     1       1       1       1       1       1       1   \n",
      "2              3     1       1       1       1       1       1       1   \n",
      "3              4     1       1       1       1       1       1       1   \n",
      "4              5     1       1       1       1       1       1       1   \n",
      "...          ...   ...     ...     ...     ...     ...     ...     ...   \n",
      "1048570  1048571     1       1       1       1       1       1       1   \n",
      "1048571  1048572     1       1       1       1       1       1       1   \n",
      "1048572  1048573     1       1       1       1       1       1       1   \n",
      "1048573  1048574     0       0       0       0       0       0       0   \n",
      "1048574  1048575     1       1       1       1       1       1       1   \n",
      "\n",
      "         2017.7  2017.8  ...  2020.11  2020.12  2020.13  2020.14  2020.15  \\\n",
      "0             1       1  ...        1        1        1        1        1   \n",
      "1             1       1  ...        1        1        1        1        1   \n",
      "2             1       1  ...        1        1        1        1        1   \n",
      "3             1       1  ...        1        1        1        1        1   \n",
      "4             1       1  ...        1        1        1        1        1   \n",
      "...         ...     ...  ...      ...      ...      ...      ...      ...   \n",
      "1048570       1       1  ...        1        1        1        1        1   \n",
      "1048571       1       1  ...        1        1        1        1        1   \n",
      "1048572       1       1  ...        1        1        1        1        1   \n",
      "1048573       0       0  ...        0        0        0        0        0   \n",
      "1048574       1       1  ...        1        1        1        1        1   \n",
      "\n",
      "         2020.16  2020.17  2020.18  2020.19  2020.20  \n",
      "0              1        1        1        1        1  \n",
      "1              1        1        1        1        1  \n",
      "2              1        1        1        1        1  \n",
      "3              1        1        1        1        1  \n",
      "4              1        1        1        1        1  \n",
      "...          ...      ...      ...      ...      ...  \n",
      "1048570        1        1        1        1        1  \n",
      "1048571        1        1        1        1        1  \n",
      "1048572        1        1        1        1        1  \n",
      "1048573        0        0        0        0        0  \n",
      "1048574        1        1        1        1        1  \n",
      "\n",
      "[1048575 rows x 82 columns]\n"
     ]
    }
   ],
   "source": [
    "print(df_evo)"
   ]
  },
  {
   "cell_type": "code",
   "execution_count": 64,
   "metadata": {},
   "outputs": [],
   "source": [
    "df_evo['id']= df_evo.index+1"
   ]
  },
  {
   "cell_type": "code",
   "execution_count": 65,
   "metadata": {},
   "outputs": [
    {
     "name": "stdout",
     "output_type": "stream",
     "text": [
      "              id   2017  2017.1  2017.2  2017.3  2017.4  2017.5  2017.6  \\\n",
      "0              1   True    True    True    True    True    True    True   \n",
      "1              2   True    True    True    True    True    True    True   \n",
      "2              3   True    True    True    True    True    True    True   \n",
      "3              4   True    True    True    True    True    True    True   \n",
      "4              5   True    True    True    True    True    True    True   \n",
      "...          ...    ...     ...     ...     ...     ...     ...     ...   \n",
      "1048570  1048571   True    True    True    True    True    True    True   \n",
      "1048571  1048572   True    True    True    True    True    True    True   \n",
      "1048572  1048573   True    True    True    True    True    True    True   \n",
      "1048573  1048574  False   False   False   False   False   False   False   \n",
      "1048574  1048575   True    True    True    True    True    True    True   \n",
      "\n",
      "         2017.7  2017.8  ...  2020.11  2020.12  2020.13  2020.14  2020.15  \\\n",
      "0          True    True  ...     True     True     True     True     True   \n",
      "1          True    True  ...     True     True     True     True     True   \n",
      "2          True    True  ...     True     True     True     True     True   \n",
      "3          True    True  ...     True     True     True     True     True   \n",
      "4          True    True  ...     True     True     True     True     True   \n",
      "...         ...     ...  ...      ...      ...      ...      ...      ...   \n",
      "1048570    True    True  ...     True     True     True     True     True   \n",
      "1048571    True    True  ...     True     True     True     True     True   \n",
      "1048572    True    True  ...     True     True     True     True     True   \n",
      "1048573   False   False  ...    False    False    False    False    False   \n",
      "1048574    True    True  ...     True     True     True     True     True   \n",
      "\n",
      "         2020.16  2020.17  2020.18  2020.19  2020.20  \n",
      "0           True     True     True     True     True  \n",
      "1           True     True     True     True     True  \n",
      "2           True     True     True     True     True  \n",
      "3           True     True     True     True     True  \n",
      "4           True     True     True     True     True  \n",
      "...          ...      ...      ...      ...      ...  \n",
      "1048570     True     True     True     True     True  \n",
      "1048571     True     True     True     True     True  \n",
      "1048572     True     True     True     True     True  \n",
      "1048573    False    False    False    False    False  \n",
      "1048574     True     True     True     True     True  \n",
      "\n",
      "[1048575 rows x 82 columns]\n"
     ]
    }
   ],
   "source": [
    "print(df_evo)"
   ]
  },
  {
   "cell_type": "code",
   "execution_count": 66,
   "metadata": {},
   "outputs": [],
   "source": [
    "df_evo=df_evo*1"
   ]
  },
  {
   "cell_type": "code",
   "execution_count": 67,
   "metadata": {},
   "outputs": [],
   "source": [
    "df_evo.to_csv(\"/home/exp-1/Desktop/data/Alerts/ds3_suricata_evo_proc.csv\",index=False)"
   ]
  },
  {
   "cell_type": "code",
   "execution_count": null,
   "metadata": {},
   "outputs": [],
   "source": []
  }
 ],
 "metadata": {
  "kernelspec": {
   "display_name": "Python 3",
   "language": "python",
   "name": "python3"
  },
  "language_info": {
   "codemirror_mode": {
    "name": "ipython",
    "version": 3
   },
   "file_extension": ".py",
   "mimetype": "text/x-python",
   "name": "python",
   "nbconvert_exporter": "python",
   "pygments_lexer": "ipython3",
   "version": "3.8.10"
  }
 },
 "nbformat": 4,
 "nbformat_minor": 4
}
