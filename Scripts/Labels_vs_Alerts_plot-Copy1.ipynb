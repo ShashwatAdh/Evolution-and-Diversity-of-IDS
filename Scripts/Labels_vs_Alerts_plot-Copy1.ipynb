{
 "cells": [
  {
   "cell_type": "code",
   "execution_count": 1,
   "metadata": {},
   "outputs": [],
   "source": [
    "import pandas as pd\n",
    "import numpy as np\n",
    "from datetime import datetime, timedelta"
   ]
  },
  {
   "cell_type": "code",
   "execution_count": 2,
   "metadata": {},
   "outputs": [],
   "source": [
    "#Read Labels:\n",
    "ds2_label=pd.read_csv('/home/exp-1/Desktop/data/ds2_labels.csv')\n",
    "#Read_Alerts\n",
    "snort_ds2_2017=pd.read_csv('/home/exp-1/Desktop/data/Alerts/Alerts_csv/snort_ds2/snort_ds2_2017.csv')\n",
    "snort_ds2_2018=pd.read_csv('/home/exp-1/Desktop/data/Alerts/Alerts_csv/snort_ds2/snort_ds2_2018.csv')\n",
    "snort_ds2_2019=pd.read_csv('/home/exp-1/Desktop/data/Alerts/Alerts_csv/snort_ds2/snort_ds2_2019.csv')\n",
    "snort_ds2_2020=pd.read_csv('/home/exp-1/Desktop/data/Alerts/Alerts_csv/snort_ds2/snort_ds2_2020.csv')\n",
    "suricata_ds2_2017=pd.read_csv('/home/exp-1/Desktop/data/Alerts/Alerts_csv/suricata_ds2/suricata_ds2_2017.csv')\n",
    "suricata_ds2_2018=pd.read_csv('/home/exp-1/Desktop/data/Alerts/Alerts_csv/suricata_ds2/suricata_ds2_2018.csv')\n",
    "suricata_ds2_2019=pd.read_csv('/home/exp-1/Desktop/data/Alerts/Alerts_csv/suricata_ds2/suricata_ds2_2019.csv')\n",
    "suricata_ds2_2020=pd.read_csv('/home/exp-1/Desktop/data/Alerts/Alerts_csv/suricata_ds2/suricata_ds2_2020.csv')"
   ]
  },
  {
   "cell_type": "code",
   "execution_count": 3,
   "metadata": {},
   "outputs": [],
   "source": [
    "#Read Labels:\n",
    "ds3_label=pd.read_csv('/home/exp-1/Desktop/data/ds3_labels.csv')\n",
    "#Read_Alerts\n",
    "snort_ds3_2017=pd.read_csv('/home/exp-1/Desktop/data/Alerts/Alerts_csv/snort_ds3/snort_ds3_2017.csv')\n",
    "snort_ds3_2018=pd.read_csv('/home/exp-1/Desktop/data/Alerts/Alerts_csv/snort_ds3/snort_ds3_2018.csv')\n",
    "snort_ds3_2019=pd.read_csv('/home/exp-1/Desktop/data/Alerts/Alerts_csv/snort_ds3/snort_ds3_2019.csv')\n",
    "snort_ds3_2020=pd.read_csv('/home/exp-1/Desktop/data/Alerts/Alerts_csv/snort_ds3/snort_ds3_2020.csv')\n",
    "suricata_ds3_2017=pd.read_csv('/home/exp-1/Desktop/data/Alerts/Alerts_csv/suricata_ds3/suricata_ds3_2017.csv')\n",
    "suricata_ds3_2018=pd.read_csv('/home/exp-1/Desktop/data/Alerts/Alerts_csv/suricata_ds3/suricata_ds3_2018.csv')\n",
    "suricata_ds3_2019=pd.read_csv('/home/exp-1/Desktop/data/Alerts/Alerts_csv/suricata_ds3/suricata_ds3_2019.csv')\n",
    "suricata_ds3_2020=pd.read_csv('/home/exp-1/Desktop/data/Alerts/Alerts_csv/suricata_ds3/suricata_ds3_2020.csv')"
   ]
  },
  {
   "cell_type": "code",
   "execution_count": 4,
   "metadata": {},
   "outputs": [],
   "source": [
    "ds2_label['date']=pd.to_datetime(ds2_label[' Timestamp'])\n",
    "ds3_label['date']=pd.to_datetime(ds3_label['Timestamp'])"
   ]
  },
  {
   "cell_type": "code",
   "execution_count": 20,
   "metadata": {},
   "outputs": [],
   "source": [
    "ds2_label['p']=np.where(ds2_label.index<=150813, \"AM\",\"PM\")\n",
    "ds3_label['p']=np.where((ds3_label['date'].dt.hour>=8) & (ds3_label['date'].dt.hour<12), \"AM\", \"PM\")"
   ]
  },
  {
   "cell_type": "code",
   "execution_count": 29,
   "metadata": {},
   "outputs": [],
   "source": [
    "ds2_label['date']=ds2_label['date'].astype(str)+' '+ds2_label['p']\n",
    "ds3_label['date']=ds3_label['date'].astype(str)+' '+ds3_label['p']"
   ]
  },
  {
   "cell_type": "code",
   "execution_count": 32,
   "metadata": {},
   "outputs": [],
   "source": [
    "ds2_label['date']=pd.to_datetime(ds2_label['date'])\n",
    "ds3_label['date']=pd.to_datetime(ds3_label['date'])"
   ]
  },
  {
   "cell_type": "code",
   "execution_count": 43,
   "metadata": {},
   "outputs": [],
   "source": [
    "ds2_label['label']=np.where(ds2_label[' Label']=='BENIGN',0,1)\n",
    "ds3_label['label']=np.where(ds3_label['Label']=='Benign',0,1)"
   ]
  },
  {
   "cell_type": "code",
   "execution_count": 44,
   "metadata": {},
   "outputs": [],
   "source": [
    "ds2_label_csv=ds2_label[['date','label']]\n",
    "ds3_label_csv=ds3_label[['date','label']]"
   ]
  },
  {
   "cell_type": "code",
   "execution_count": 59,
   "metadata": {},
   "outputs": [],
   "source": [
    "ds2_label_csv.to_csv('/home/exp-1/Desktop/data/timestamp_plot/ds2_label.csv', index=False)\n",
    "ds3_label_csv.to_csv('/home/exp-1/Desktop/data/timestamp_plot/ds3_label.csv', index=False)"
   ]
  },
  {
   "cell_type": "code",
   "execution_count": null,
   "metadata": {},
   "outputs": [],
   "source": []
  },
  {
   "cell_type": "code",
   "execution_count": 61,
   "metadata": {},
   "outputs": [],
   "source": [
    "snort_ds2_2017=snort_ds2_2017[['date','positives']]\n",
    "snort_ds2_2018=snort_ds2_2018[['date','positives']]\n",
    "snort_ds2_2019=snort_ds2_2019[['date','positives']]\n",
    "snort_ds2_2020=snort_ds2_2020[['date','positives']]\n",
    "suricata_ds2_2017=suricata_ds2_2017[['date','positives']]\n",
    "suricata_ds2_2018=suricata_ds2_2018[['date','positives']]\n",
    "suricata_ds2_2019=suricata_ds2_2019[['date','positives']]\n",
    "suricata_ds2_2020=suricata_ds2_2020[['date','positives']]"
   ]
  },
  {
   "cell_type": "code",
   "execution_count": 62,
   "metadata": {},
   "outputs": [],
   "source": [
    "snort_ds3_2017=snort_ds3_2017[['date','positives']]\n",
    "snort_ds3_2018=snort_ds3_2018[['date','positives']]\n",
    "snort_ds3_2019=snort_ds3_2019[['date','positives']]\n",
    "snort_ds3_2020=snort_ds3_2020[['date','positives']]\n",
    "suricata_ds3_2017=suricata_ds3_2017[['date','positives']]\n",
    "suricata_ds3_2018=suricata_ds3_2018[['date','positives']]\n",
    "suricata_ds3_2019=suricata_ds3_2019[['date','positives']]\n",
    "suricata_ds3_2020=suricata_ds3_2020[['date','positives']]"
   ]
  },
  {
   "cell_type": "code",
   "execution_count": 63,
   "metadata": {},
   "outputs": [],
   "source": [
    "snort_ds2_2017.to_csv('/home/exp-1/Desktop/data/timestamp_plot/snort_ds2_2017.csv')\n",
    "snort_ds2_2018.to_csv('/home/exp-1/Desktop/data/timestamp_plot/snort_ds2_2018.csv')\n",
    "snort_ds2_2019.to_csv('/home/exp-1/Desktop/data/timestamp_plot/snort_ds2_2019.csv')\n",
    "snort_ds2_2020.to_csv('/home/exp-1/Desktop/data/timestamp_plot/snort_ds2_2020.csv')\n",
    "suricata_ds2_2017.to_csv('/home/exp-1/Desktop/data/timestamp_plot/suricata_ds2_2017.csv')\n",
    "suricata_ds2_2018.to_csv('/home/exp-1/Desktop/data/timestamp_plot/suricata_ds2_2018.csv')\n",
    "suricata_ds2_2019.to_csv('/home/exp-1/Desktop/data/timestamp_plot/suricata_ds2_2019.csv')\n",
    "suricata_ds2_2020.to_csv('/home/exp-1/Desktop/data/timestamp_plot/suricata_ds2_2020.csv')"
   ]
  },
  {
   "cell_type": "code",
   "execution_count": 64,
   "metadata": {},
   "outputs": [],
   "source": [
    "snort_ds3_2017.to_csv('/home/exp-1/Desktop/data/timestamp_plot/snort_ds3_2017.csv')\n",
    "snort_ds3_2018.to_csv('/home/exp-1/Desktop/data/timestamp_plot/snort_ds3_2018.csv')\n",
    "snort_ds3_2019.to_csv('/home/exp-1/Desktop/data/timestamp_plot/snort_ds3_2019.csv')\n",
    "snort_ds3_2020.to_csv('/home/exp-1/Desktop/data/timestamp_plot/snort_ds3_2020.csv')\n",
    "suricata_ds3_2017.to_csv('/home/exp-1/Desktop/data/timestamp_plot/suricata_ds3_2017.csv')\n",
    "suricata_ds3_2018.to_csv('/home/exp-1/Desktop/data/timestamp_plot/suricata_ds3_2018.csv')\n",
    "suricata_ds3_2019.to_csv('/home/exp-1/Desktop/data/timestamp_plot/suricata_ds3_2019.csv')\n",
    "suricata_ds3_2020.to_csv('/home/exp-1/Desktop/data/timestamp_plot/suricata_ds3_2020.csv')"
   ]
  },
  {
   "cell_type": "code",
   "execution_count": null,
   "metadata": {},
   "outputs": [],
   "source": []
  },
  {
   "cell_type": "code",
   "execution_count": 40,
   "metadata": {},
   "outputs": [
    {
     "ename": "NameError",
     "evalue": "name 'ds3_label_csv' is not defined",
     "output_type": "error",
     "traceback": [
      "\u001b[0;31m---------------------------------------------------------------------------\u001b[0m",
      "\u001b[0;31mNameError\u001b[0m                                 Traceback (most recent call last)",
      "\u001b[0;32m<ipython-input-40-db0f0fe8707a>\u001b[0m in \u001b[0;36m<module>\u001b[0;34m\u001b[0m\n\u001b[0;32m----> 1\u001b[0;31m \u001b[0mds3_label_csv\u001b[0m\u001b[0;34m\u001b[0m\u001b[0;34m\u001b[0m\u001b[0m\n\u001b[0m",
      "\u001b[0;31mNameError\u001b[0m: name 'ds3_label_csv' is not defined"
     ]
    }
   ],
   "source": [
    "ds3_label_csv"
   ]
  },
  {
   "cell_type": "code",
   "execution_count": null,
   "metadata": {},
   "outputs": [],
   "source": []
  },
  {
   "cell_type": "code",
   "execution_count": null,
   "metadata": {},
   "outputs": [],
   "source": []
  },
  {
   "cell_type": "code",
   "execution_count": null,
   "metadata": {},
   "outputs": [],
   "source": []
  },
  {
   "cell_type": "code",
   "execution_count": 17,
   "metadata": {},
   "outputs": [
    {
     "name": "stdout",
     "output_type": "stream",
     "text": [
      "      event.source-ip event.destination-ip  event.sport-itype  \\\n",
      "0        192.168.10.3        192.168.10.19               88.0   \n",
      "1        192.168.10.3        192.168.10.19               88.0   \n",
      "2        192.168.10.3        192.168.10.19               88.0   \n",
      "3        192.168.10.3        192.168.10.19               88.0   \n",
      "4        192.168.10.3        192.168.10.19               88.0   \n",
      "...               ...                  ...                ...   \n",
      "29904   68.67.178.196        192.168.10.14               80.0   \n",
      "29905   192.168.10.14        74.119.118.82            51633.0   \n",
      "29906   192.168.10.15        38.72.130.155            61245.0   \n",
      "29907   74.119.118.74        192.168.10.51               80.0   \n",
      "29908   68.67.178.110         192.168.10.8               80.0   \n",
      "\n",
      "       event.dport-icode  event.protocol  event.event-second  \\\n",
      "0                41567.0             6.0        1.499342e+09   \n",
      "1                41567.0             6.0        1.499342e+09   \n",
      "2                41569.0             6.0        1.499342e+09   \n",
      "3                41569.0             6.0        1.499342e+09   \n",
      "4                41574.0             6.0        1.499342e+09   \n",
      "...                  ...             ...                 ...   \n",
      "29904            51631.0             6.0        1.499370e+09   \n",
      "29905               80.0             6.0        1.499370e+09   \n",
      "29906               80.0             6.0        1.499370e+09   \n",
      "29907            44693.0             6.0        1.499370e+09   \n",
      "29908             1944.0             6.0        1.499370e+09   \n",
      "\n",
      "       event.event-microsecond  \\\n",
      "0                     231479.0   \n",
      "1                     231480.0   \n",
      "2                     274589.0   \n",
      "3                     274590.0   \n",
      "4                     614108.0   \n",
      "...                        ...   \n",
      "29904                  62132.0   \n",
      "29905                  48982.0   \n",
      "29906                 903785.0   \n",
      "29907                  94649.0   \n",
      "29908                 548910.0   \n",
      "\n",
      "                                               event.msg  event.signature-id  \\\n",
      "0                          stream5: Reset outside window                15.0   \n",
      "1                          stream5: Reset outside window                15.0   \n",
      "2                          stream5: Reset outside window                15.0   \n",
      "3                          stream5: Reset outside window                15.0   \n",
      "4                          stream5: Reset outside window                15.0   \n",
      "...                                                  ...                 ...   \n",
      "29904  http_inspect: NO CONTENT-LENGTH OR TRANSFER-EN...                 3.0   \n",
      "29905                          http_inspect: LONG HEADER                19.0   \n",
      "29906                          http_inspect: LONG HEADER                19.0   \n",
      "29907  http_inspect: NO CONTENT-LENGTH OR TRANSFER-EN...                 3.0   \n",
      "29908  http_inspect: NO CONTENT-LENGTH OR TRANSFER-EN...                 3.0   \n",
      "\n",
      "                      date                                                 id  \\\n",
      "0      2017-07-06 09:00:43  192.168.10.3-192.168.10.19-88-41567-2017-07-06...   \n",
      "1      2017-07-06 09:00:43  192.168.10.3-192.168.10.19-88-41567-2017-07-06...   \n",
      "2      2017-07-06 09:00:43  192.168.10.3-192.168.10.19-88-41569-2017-07-06...   \n",
      "3      2017-07-06 09:00:43  192.168.10.3-192.168.10.19-88-41569-2017-07-06...   \n",
      "4      2017-07-06 09:00:44  192.168.10.3-192.168.10.19-88-41574-2017-07-06...   \n",
      "...                    ...                                                ...   \n",
      "29904  2017-07-06 16:47:02  68.67.178.196-192.168.10.14-80-51631-2017-07-0...   \n",
      "29905  2017-07-06 16:47:00  192.168.10.14-74.119.118.82-51633-80-2017-07-0...   \n",
      "29906  2017-07-06 16:43:52  192.168.10.15-38.72.130.155-61245-80-2017-07-0...   \n",
      "29907  2017-07-06 16:42:55  74.119.118.74-192.168.10.51-80-44693-2017-07-0...   \n",
      "29908  2017-07-06 16:34:21  68.67.178.110-192.168.10.8-80-1944-2017-07-06 ...   \n",
      "\n",
      "       positives  TP_SID  \n",
      "0          False     0.0  \n",
      "1           True    15.0  \n",
      "2          False     0.0  \n",
      "3          False     0.0  \n",
      "4           True    15.0  \n",
      "...          ...     ...  \n",
      "29904      False     0.0  \n",
      "29905      False     0.0  \n",
      "29906      False     0.0  \n",
      "29907      False     0.0  \n",
      "29908      False     0.0  \n",
      "\n",
      "[29909 rows x 13 columns]\n"
     ]
    }
   ],
   "source": [
    "print(snort_ds2_2017)"
   ]
  },
  {
   "cell_type": "code",
   "execution_count": 19,
   "metadata": {},
   "outputs": [
    {
     "data": {
      "text/plain": [
       "0.0     28199\n",
       "15.0      637\n",
       "31.0      501\n",
       "12.0      241\n",
       "3.0       138\n",
       "19.0       78\n",
       "1.0        53\n",
       "5.0        38\n",
       "14.0       13\n",
       "8.0         8\n",
       "7.0         1\n",
       "33.0        1\n",
       "2.0         1\n",
       "Name: TP_SID, dtype: int64"
      ]
     },
     "execution_count": 19,
     "metadata": {},
     "output_type": "execute_result"
    }
   ],
   "source": [
    "snort_ds2_2017['TP_SID'].value_counts()"
   ]
  },
  {
   "cell_type": "code",
   "execution_count": 25,
   "metadata": {},
   "outputs": [],
   "source": [
    "snort_ds2_2017['FP_SID']=np.where(snort_ds2_2017['positives']==False, snort_ds2_2017['event.signature-id'],0)\n",
    "snort_ds2_2018['FP_SID']=np.where(snort_ds2_2018['positives']==False, snort_ds2_2018['event.signature-id'],0)\n",
    "snort_ds2_2019['FP_SID']=np.where(snort_ds2_2019['positives']==False, snort_ds2_2019['event.signature-id'],0)\n",
    "snort_ds2_2020['FP_SID']=np.where(snort_ds2_2020['positives']==False, snort_ds2_2020['event.signature-id'],0)"
   ]
  },
  {
   "cell_type": "code",
   "execution_count": 30,
   "metadata": {},
   "outputs": [
    {
     "data": {
      "text/plain": [
       "0.0     28199\n",
       "15.0      637\n",
       "31.0      501\n",
       "12.0      241\n",
       "3.0       138\n",
       "19.0       78\n",
       "1.0        53\n",
       "5.0        38\n",
       "14.0       13\n",
       "8.0         8\n",
       "7.0         1\n",
       "33.0        1\n",
       "2.0         1\n",
       "Name: TP_SID, dtype: int64"
      ]
     },
     "execution_count": 30,
     "metadata": {},
     "output_type": "execute_result"
    }
   ],
   "source": [
    "snort_ds2_2017['TP_SID'].value_counts()"
   ]
  },
  {
   "cell_type": "code",
   "execution_count": 31,
   "metadata": {},
   "outputs": [
    {
     "data": {
      "text/plain": [
       "0.0     28302\n",
       "15.0      552\n",
       "31.0      437\n",
       "12.0      253\n",
       "3.0       143\n",
       "19.0       86\n",
       "1.0        69\n",
       "5.0        40\n",
       "14.0       13\n",
       "8.0         9\n",
       "2.0         2\n",
       "4.0         1\n",
       "33.0        1\n",
       "34.0        1\n",
       "Name: TP_SID, dtype: int64"
      ]
     },
     "execution_count": 31,
     "metadata": {},
     "output_type": "execute_result"
    }
   ],
   "source": [
    "snort_ds2_2018['TP_SID'].value_counts()"
   ]
  },
  {
   "cell_type": "code",
   "execution_count": 32,
   "metadata": {},
   "outputs": [
    {
     "data": {
      "text/plain": [
       "0.0     28316\n",
       "15.0      563\n",
       "31.0      476\n",
       "12.0      226\n",
       "3.0       117\n",
       "19.0       87\n",
       "1.0        58\n",
       "5.0        45\n",
       "14.0       13\n",
       "8.0         4\n",
       "2.0         2\n",
       "4.0         1\n",
       "33.0        1\n",
       "Name: TP_SID, dtype: int64"
      ]
     },
     "execution_count": 32,
     "metadata": {},
     "output_type": "execute_result"
    }
   ],
   "source": [
    "snort_ds2_2019['TP_SID'].value_counts()"
   ]
  },
  {
   "cell_type": "code",
   "execution_count": 33,
   "metadata": {},
   "outputs": [
    {
     "data": {
      "text/plain": [
       "0.0     35325\n",
       "15.0      530\n",
       "20.0      513\n",
       "31.0      384\n",
       "12.0      215\n",
       "3.0       120\n",
       "19.0       57\n",
       "1.0        50\n",
       "5.0        30\n",
       "14.0       14\n",
       "8.0         3\n",
       "33.0        3\n",
       "2.0         2\n",
       "34.0        1\n",
       "Name: TP_SID, dtype: int64"
      ]
     },
     "execution_count": 33,
     "metadata": {},
     "output_type": "execute_result"
    }
   ],
   "source": [
    "snort_ds2_2020['TP_SID'].value_counts()"
   ]
  },
  {
   "cell_type": "code",
   "execution_count": null,
   "metadata": {},
   "outputs": [],
   "source": []
  },
  {
   "cell_type": "code",
   "execution_count": 34,
   "metadata": {},
   "outputs": [
    {
     "data": {
      "text/html": [
       "<div>\n",
       "<style scoped>\n",
       "    .dataframe tbody tr th:only-of-type {\n",
       "        vertical-align: middle;\n",
       "    }\n",
       "\n",
       "    .dataframe tbody tr th {\n",
       "        vertical-align: top;\n",
       "    }\n",
       "\n",
       "    .dataframe thead th {\n",
       "        text-align: right;\n",
       "    }\n",
       "</style>\n",
       "<table border=\"1\" class=\"dataframe\">\n",
       "  <thead>\n",
       "    <tr style=\"text-align: right;\">\n",
       "      <th></th>\n",
       "      <th>timestamp</th>\n",
       "      <th>src_ip</th>\n",
       "      <th>dest_ip</th>\n",
       "      <th>src_port</th>\n",
       "      <th>dest_port</th>\n",
       "      <th>proto</th>\n",
       "      <th>event_type</th>\n",
       "      <th>alert.signature</th>\n",
       "      <th>alert.signature_id</th>\n",
       "      <th>id</th>\n",
       "      <th>date</th>\n",
       "      <th>positives</th>\n",
       "    </tr>\n",
       "  </thead>\n",
       "  <tbody>\n",
       "    <tr>\n",
       "      <th>0</th>\n",
       "      <td>2017-07-06T05:01:02.041670-0700</td>\n",
       "      <td>158.69.247.184</td>\n",
       "      <td>192.168.10.12</td>\n",
       "      <td>123.0</td>\n",
       "      <td>123.0</td>\n",
       "      <td>UDP</td>\n",
       "      <td>alert</td>\n",
       "      <td>ET TOR Known Tor Relay/Router (Not Exit) Node ...</td>\n",
       "      <td>2522342.0</td>\n",
       "      <td>158.69.247.184-192.168.10.12-123-123-2017-07-0...</td>\n",
       "      <td>2017-07-06 09:01:02</td>\n",
       "      <td>False</td>\n",
       "    </tr>\n",
       "    <tr>\n",
       "      <th>1</th>\n",
       "      <td>2017-07-06T05:01:38.412414-0700</td>\n",
       "      <td>13.107.4.50</td>\n",
       "      <td>192.168.10.15</td>\n",
       "      <td>80.0</td>\n",
       "      <td>49452.0</td>\n",
       "      <td>TCP</td>\n",
       "      <td>alert</td>\n",
       "      <td>ET POLICY PE EXE or DLL Windows file download</td>\n",
       "      <td>2000419.0</td>\n",
       "      <td>13.107.4.50-192.168.10.15-80-49452-2017-07-06T...</td>\n",
       "      <td>2017-07-06 09:01:38</td>\n",
       "      <td>False</td>\n",
       "    </tr>\n",
       "    <tr>\n",
       "      <th>2</th>\n",
       "      <td>2017-07-06T05:05:42.833984-0700</td>\n",
       "      <td>13.107.4.50</td>\n",
       "      <td>192.168.10.15</td>\n",
       "      <td>80.0</td>\n",
       "      <td>49474.0</td>\n",
       "      <td>TCP</td>\n",
       "      <td>alert</td>\n",
       "      <td>ET POLICY PE EXE or DLL Windows file download</td>\n",
       "      <td>2000419.0</td>\n",
       "      <td>13.107.4.50-192.168.10.15-80-49474-2017-07-06T...</td>\n",
       "      <td>2017-07-06 09:05:42</td>\n",
       "      <td>False</td>\n",
       "    </tr>\n",
       "    <tr>\n",
       "      <th>3</th>\n",
       "      <td>2017-07-06T05:09:04.787379-0700</td>\n",
       "      <td>192.168.10.5</td>\n",
       "      <td>23.50.75.27</td>\n",
       "      <td>49332.0</td>\n",
       "      <td>80.0</td>\n",
       "      <td>TCP</td>\n",
       "      <td>alert</td>\n",
       "      <td>ET POLICY Vulnerable Java Version 1.8.x Detected</td>\n",
       "      <td>2019401.0</td>\n",
       "      <td>192.168.10.5-23.50.75.27-49332-80-2017-07-06T0...</td>\n",
       "      <td>2017-07-06 09:09:04</td>\n",
       "      <td>False</td>\n",
       "    </tr>\n",
       "    <tr>\n",
       "      <th>4</th>\n",
       "      <td>2017-07-06T05:09:04.924779-0700</td>\n",
       "      <td>192.168.10.5</td>\n",
       "      <td>23.50.75.27</td>\n",
       "      <td>49333.0</td>\n",
       "      <td>80.0</td>\n",
       "      <td>TCP</td>\n",
       "      <td>alert</td>\n",
       "      <td>ET POLICY Vulnerable Java Version 1.8.x Detected</td>\n",
       "      <td>2019401.0</td>\n",
       "      <td>192.168.10.5-23.50.75.27-49333-80-2017-07-06T0...</td>\n",
       "      <td>2017-07-06 09:09:04</td>\n",
       "      <td>False</td>\n",
       "    </tr>\n",
       "    <tr>\n",
       "      <th>...</th>\n",
       "      <td>...</td>\n",
       "      <td>...</td>\n",
       "      <td>...</td>\n",
       "      <td>...</td>\n",
       "      <td>...</td>\n",
       "      <td>...</td>\n",
       "      <td>...</td>\n",
       "      <td>...</td>\n",
       "      <td>...</td>\n",
       "      <td>...</td>\n",
       "      <td>...</td>\n",
       "      <td>...</td>\n",
       "    </tr>\n",
       "    <tr>\n",
       "      <th>24110</th>\n",
       "      <td>2017-07-06T12:49:54.152579-0700</td>\n",
       "      <td>192.168.10.8</td>\n",
       "      <td>192.225.158.2</td>\n",
       "      <td>61101.0</td>\n",
       "      <td>3478.0</td>\n",
       "      <td>UDP</td>\n",
       "      <td>alert</td>\n",
       "      <td>ET INFO Session Traversal Utilities for NAT (S...</td>\n",
       "      <td>2016149.0</td>\n",
       "      <td>192.168.10.8-192.225.158.2-61101-3478-2017-07-...</td>\n",
       "      <td>2017-07-06 16:49:54</td>\n",
       "      <td>False</td>\n",
       "    </tr>\n",
       "    <tr>\n",
       "      <th>24111</th>\n",
       "      <td>2017-07-06T12:49:54.243142-0700</td>\n",
       "      <td>192.225.158.2</td>\n",
       "      <td>192.168.10.8</td>\n",
       "      <td>3478.0</td>\n",
       "      <td>61101.0</td>\n",
       "      <td>UDP</td>\n",
       "      <td>alert</td>\n",
       "      <td>ET INFO Session Traversal Utilities for NAT (S...</td>\n",
       "      <td>2016150.0</td>\n",
       "      <td>192.225.158.2-192.168.10.8-3478-61101-2017-07-...</td>\n",
       "      <td>2017-07-06 16:49:54</td>\n",
       "      <td>False</td>\n",
       "    </tr>\n",
       "    <tr>\n",
       "      <th>24112</th>\n",
       "      <td>2017-07-06T12:54:01.822790-0700</td>\n",
       "      <td>212.239.56.65</td>\n",
       "      <td>192.168.10.25</td>\n",
       "      <td>443.0</td>\n",
       "      <td>53873.0</td>\n",
       "      <td>TCP</td>\n",
       "      <td>alert</td>\n",
       "      <td>ET POLICY SSLv3 outbound connection from clien...</td>\n",
       "      <td>2019416.0</td>\n",
       "      <td>212.239.56.65-192.168.10.25-443-53873-2017-07-...</td>\n",
       "      <td>2017-07-06 16:54:01</td>\n",
       "      <td>False</td>\n",
       "    </tr>\n",
       "    <tr>\n",
       "      <th>24113</th>\n",
       "      <td>2017-07-06T12:56:57.291412-0700</td>\n",
       "      <td>158.69.247.184</td>\n",
       "      <td>192.168.10.19</td>\n",
       "      <td>123.0</td>\n",
       "      <td>123.0</td>\n",
       "      <td>UDP</td>\n",
       "      <td>alert</td>\n",
       "      <td>ET TOR Known Tor Relay/Router (Not Exit) Node ...</td>\n",
       "      <td>2522342.0</td>\n",
       "      <td>158.69.247.184-192.168.10.19-123-123-2017-07-0...</td>\n",
       "      <td>2017-07-06 16:56:57</td>\n",
       "      <td>False</td>\n",
       "    </tr>\n",
       "    <tr>\n",
       "      <th>24114</th>\n",
       "      <td>2017-07-06T12:59:58.628241-0700</td>\n",
       "      <td>212.239.56.65</td>\n",
       "      <td>192.168.10.25</td>\n",
       "      <td>443.0</td>\n",
       "      <td>53996.0</td>\n",
       "      <td>TCP</td>\n",
       "      <td>alert</td>\n",
       "      <td>ET POLICY SSLv3 outbound connection from clien...</td>\n",
       "      <td>2019416.0</td>\n",
       "      <td>212.239.56.65-192.168.10.25-443-53996-2017-07-...</td>\n",
       "      <td>2017-07-06 16:59:58</td>\n",
       "      <td>False</td>\n",
       "    </tr>\n",
       "  </tbody>\n",
       "</table>\n",
       "<p>24115 rows × 12 columns</p>\n",
       "</div>"
      ],
      "text/plain": [
       "                             timestamp          src_ip        dest_ip  \\\n",
       "0      2017-07-06T05:01:02.041670-0700  158.69.247.184  192.168.10.12   \n",
       "1      2017-07-06T05:01:38.412414-0700     13.107.4.50  192.168.10.15   \n",
       "2      2017-07-06T05:05:42.833984-0700     13.107.4.50  192.168.10.15   \n",
       "3      2017-07-06T05:09:04.787379-0700    192.168.10.5    23.50.75.27   \n",
       "4      2017-07-06T05:09:04.924779-0700    192.168.10.5    23.50.75.27   \n",
       "...                                ...             ...            ...   \n",
       "24110  2017-07-06T12:49:54.152579-0700    192.168.10.8  192.225.158.2   \n",
       "24111  2017-07-06T12:49:54.243142-0700   192.225.158.2   192.168.10.8   \n",
       "24112  2017-07-06T12:54:01.822790-0700   212.239.56.65  192.168.10.25   \n",
       "24113  2017-07-06T12:56:57.291412-0700  158.69.247.184  192.168.10.19   \n",
       "24114  2017-07-06T12:59:58.628241-0700   212.239.56.65  192.168.10.25   \n",
       "\n",
       "       src_port  dest_port proto event_type  \\\n",
       "0         123.0      123.0   UDP      alert   \n",
       "1          80.0    49452.0   TCP      alert   \n",
       "2          80.0    49474.0   TCP      alert   \n",
       "3       49332.0       80.0   TCP      alert   \n",
       "4       49333.0       80.0   TCP      alert   \n",
       "...         ...        ...   ...        ...   \n",
       "24110   61101.0     3478.0   UDP      alert   \n",
       "24111    3478.0    61101.0   UDP      alert   \n",
       "24112     443.0    53873.0   TCP      alert   \n",
       "24113     123.0      123.0   UDP      alert   \n",
       "24114     443.0    53996.0   TCP      alert   \n",
       "\n",
       "                                         alert.signature  alert.signature_id  \\\n",
       "0      ET TOR Known Tor Relay/Router (Not Exit) Node ...           2522342.0   \n",
       "1          ET POLICY PE EXE or DLL Windows file download           2000419.0   \n",
       "2          ET POLICY PE EXE or DLL Windows file download           2000419.0   \n",
       "3       ET POLICY Vulnerable Java Version 1.8.x Detected           2019401.0   \n",
       "4       ET POLICY Vulnerable Java Version 1.8.x Detected           2019401.0   \n",
       "...                                                  ...                 ...   \n",
       "24110  ET INFO Session Traversal Utilities for NAT (S...           2016149.0   \n",
       "24111  ET INFO Session Traversal Utilities for NAT (S...           2016150.0   \n",
       "24112  ET POLICY SSLv3 outbound connection from clien...           2019416.0   \n",
       "24113  ET TOR Known Tor Relay/Router (Not Exit) Node ...           2522342.0   \n",
       "24114  ET POLICY SSLv3 outbound connection from clien...           2019416.0   \n",
       "\n",
       "                                                      id                 date  \\\n",
       "0      158.69.247.184-192.168.10.12-123-123-2017-07-0...  2017-07-06 09:01:02   \n",
       "1      13.107.4.50-192.168.10.15-80-49452-2017-07-06T...  2017-07-06 09:01:38   \n",
       "2      13.107.4.50-192.168.10.15-80-49474-2017-07-06T...  2017-07-06 09:05:42   \n",
       "3      192.168.10.5-23.50.75.27-49332-80-2017-07-06T0...  2017-07-06 09:09:04   \n",
       "4      192.168.10.5-23.50.75.27-49333-80-2017-07-06T0...  2017-07-06 09:09:04   \n",
       "...                                                  ...                  ...   \n",
       "24110  192.168.10.8-192.225.158.2-61101-3478-2017-07-...  2017-07-06 16:49:54   \n",
       "24111  192.225.158.2-192.168.10.8-3478-61101-2017-07-...  2017-07-06 16:49:54   \n",
       "24112  212.239.56.65-192.168.10.25-443-53873-2017-07-...  2017-07-06 16:54:01   \n",
       "24113  158.69.247.184-192.168.10.19-123-123-2017-07-0...  2017-07-06 16:56:57   \n",
       "24114  212.239.56.65-192.168.10.25-443-53996-2017-07-...  2017-07-06 16:59:58   \n",
       "\n",
       "       positives  \n",
       "0          False  \n",
       "1          False  \n",
       "2          False  \n",
       "3          False  \n",
       "4          False  \n",
       "...          ...  \n",
       "24110      False  \n",
       "24111      False  \n",
       "24112      False  \n",
       "24113      False  \n",
       "24114      False  \n",
       "\n",
       "[24115 rows x 12 columns]"
      ]
     },
     "execution_count": 34,
     "metadata": {},
     "output_type": "execute_result"
    }
   ],
   "source": [
    "suricata_ds2_2017\n"
   ]
  },
  {
   "cell_type": "code",
   "execution_count": 35,
   "metadata": {},
   "outputs": [
    {
     "data": {
      "text/plain": [
       "2023207.0    23761\n",
       "2013504.0      203\n",
       "2016149.0       94\n",
       "2522342.0       22\n",
       "2019401.0        7\n",
       "2102123.0        5\n",
       "2016150.0        4\n",
       "2000419.0        4\n",
       "2023205.0        3\n",
       "2019512.0        2\n",
       "2023638.0        2\n",
       "2013031.0        2\n",
       "2019416.0        2\n",
       "2016360.0        1\n",
       "2015744.0        1\n",
       "2522790.0        1\n",
       "2001581.0        1\n",
       "Name: alert.signature_id, dtype: int64"
      ]
     },
     "execution_count": 35,
     "metadata": {},
     "output_type": "execute_result"
    }
   ],
   "source": [
    "suricata_ds2_2017[\"alert.signature_id\"].value_counts()"
   ]
  },
  {
   "cell_type": "code",
   "execution_count": 36,
   "metadata": {},
   "outputs": [
    {
     "data": {
      "text/plain": [
       "2023207.0    23723\n",
       "2013504.0      203\n",
       "2024364.0       96\n",
       "2016149.0       94\n",
       "2025275.0       28\n",
       "2522306.0       23\n",
       "2102123.0        5\n",
       "2016150.0        4\n",
       "2023205.0        3\n",
       "2019512.0        2\n",
       "2023638.0        2\n",
       "2019401.0        2\n",
       "2001581.0        2\n",
       "2013031.0        2\n",
       "2019416.0        2\n",
       "2016360.0        1\n",
       "2522836.0        1\n",
       "Name: alert.signature_id, dtype: int64"
      ]
     },
     "execution_count": 36,
     "metadata": {},
     "output_type": "execute_result"
    }
   ],
   "source": [
    "suricata_ds2_2018[\"alert.signature_id\"].value_counts()"
   ]
  },
  {
   "cell_type": "code",
   "execution_count": 37,
   "metadata": {},
   "outputs": [
    {
     "data": {
      "text/plain": [
       "2023207.0    23731\n",
       "2013504.0      203\n",
       "2024364.0       96\n",
       "2016149.0       94\n",
       "2027390.0       56\n",
       "2025275.0       28\n",
       "2012647.0       13\n",
       "2102123.0        5\n",
       "2016150.0        4\n",
       "2023205.0        3\n",
       "2019512.0        2\n",
       "2023638.0        2\n",
       "2019401.0        2\n",
       "2013031.0        2\n",
       "2019416.0        2\n",
       "2016360.0        1\n",
       "2014380.0        1\n",
       "2014381.0        1\n",
       "2001581.0        1\n",
       "Name: alert.signature_id, dtype: int64"
      ]
     },
     "execution_count": 37,
     "metadata": {},
     "output_type": "execute_result"
    }
   ],
   "source": [
    "suricata_ds2_2019[\"alert.signature_id\"].value_counts()"
   ]
  },
  {
   "cell_type": "code",
   "execution_count": 38,
   "metadata": {},
   "outputs": [
    {
     "data": {
      "text/plain": [
       "2023207.0    23757\n",
       "2027757.0      271\n",
       "2013504.0      203\n",
       "2027758.0      151\n",
       "2027863.0      144\n",
       "2024364.0       96\n",
       "2016149.0       94\n",
       "2027390.0       56\n",
       "2012647.0       10\n",
       "2025275.0        6\n",
       "2102123.0        5\n",
       "2016150.0        4\n",
       "2023205.0        3\n",
       "2019401.0        2\n",
       "2023638.0        2\n",
       "2019512.0        2\n",
       "2019416.0        2\n",
       "2014380.0        1\n",
       "2016360.0        1\n",
       "2014381.0        1\n",
       "Name: alert.signature_id, dtype: int64"
      ]
     },
     "execution_count": 38,
     "metadata": {},
     "output_type": "execute_result"
    }
   ],
   "source": [
    "suricata_ds2_2020[\"alert.signature_id\"].value_counts()"
   ]
  },
  {
   "cell_type": "code",
   "execution_count": null,
   "metadata": {},
   "outputs": [],
   "source": [
    "snort_ds2_2020[]"
   ]
  }
 ],
 "metadata": {
  "kernelspec": {
   "display_name": "Python 3",
   "language": "python",
   "name": "python3"
  },
  "language_info": {
   "codemirror_mode": {
    "name": "ipython",
    "version": 3
   },
   "file_extension": ".py",
   "mimetype": "text/x-python",
   "name": "python",
   "nbconvert_exporter": "python",
   "pygments_lexer": "ipython3",
   "version": "3.8.10"
  }
 },
 "nbformat": 4,
 "nbformat_minor": 4
}
