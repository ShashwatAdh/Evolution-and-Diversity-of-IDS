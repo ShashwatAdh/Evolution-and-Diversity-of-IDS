{
 "cells": [
  {
   "cell_type": "code",
   "execution_count": 36,
   "metadata": {},
   "outputs": [],
   "source": [
    "import pandas as pd\n",
    "import numpy as np"
   ]
  },
  {
   "cell_type": "code",
   "execution_count": 2,
   "metadata": {},
   "outputs": [],
   "source": [
    "#Read Labels:\n",
    "ds2_label=pd.read_csv('/home/exp-1/Desktop/data/ds2_labels.csv')\n",
    "#Read_Alerts\n",
    "snort_ds2_2017=pd.read_csv('/home/exp-1/Desktop/data/Alerts/Alerts_csv/ds2_snort/2017.csv')\n",
    "suricata_ds2_2017=pd.read_csv('/home/exp-1/Desktop/data/Alerts/Alerts_csv/ds2_suricata/2017.csv')"
   ]
  },
  {
   "cell_type": "code",
   "execution_count": 3,
   "metadata": {},
   "outputs": [
    {
     "name": "stdout",
     "output_type": "stream",
     "text": [
      "0        2017-07-06 12:00:43\n",
      "1        2017-07-06 12:00:43\n",
      "2        2017-07-06 12:00:43\n",
      "3        2017-07-06 12:00:43\n",
      "4        2017-07-06 12:00:44\n",
      "                ...         \n",
      "29904    2017-07-06 19:47:02\n",
      "29905    2017-07-06 19:47:00\n",
      "29906    2017-07-06 19:43:52\n",
      "29907    2017-07-06 19:42:55\n",
      "29908    2017-07-06 19:34:21\n",
      "Name: date, Length: 29909, dtype: object\n"
     ]
    }
   ],
   "source": [
    "print(snort_ds2_2017['date'])"
   ]
  },
  {
   "cell_type": "code",
   "execution_count": 4,
   "metadata": {},
   "outputs": [],
   "source": [
    "suricata_ds2_2017['date'] = pd.to_datetime(suricata_ds2_2017['timestamp'], utc=True)\n",
    "suricata_ds2_2017['date'] = suricata_ds2_2017['date'].map(lambda x: str(x)[:-13])"
   ]
  },
  {
   "cell_type": "code",
   "execution_count": 5,
   "metadata": {},
   "outputs": [
    {
     "name": "stdout",
     "output_type": "stream",
     "text": [
      "0        2017-07-06 12:01:02\n",
      "1        2017-07-06 12:01:38\n",
      "2        2017-07-06 12:05:42\n",
      "3        2017-07-06 12:09:04\n",
      "4        2017-07-06 12:09:04\n",
      "                ...         \n",
      "24110    2017-07-06 19:49:54\n",
      "24111    2017-07-06 19:49:54\n",
      "24112    2017-07-06 19:54:01\n",
      "24113    2017-07-06 19:56:57\n",
      "24114    2017-07-06 19:59:58\n",
      "Name: date, Length: 24115, dtype: object\n"
     ]
    }
   ],
   "source": [
    "print(suricata_ds2_2017['date'])"
   ]
  },
  {
   "cell_type": "code",
   "execution_count": null,
   "metadata": {},
   "outputs": [],
   "source": []
  },
  {
   "cell_type": "code",
   "execution_count": 6,
   "metadata": {},
   "outputs": [],
   "source": [
    "ds2_label['date']=pd.to_datetime(ds2_label[' Timestamp'],format='%d/%m/%Y %H:%M')"
   ]
  },
  {
   "cell_type": "code",
   "execution_count": 7,
   "metadata": {},
   "outputs": [
    {
     "name": "stdout",
     "output_type": "stream",
     "text": [
      "2017-07-06 03:19:00    5374\n",
      "2017-07-06 03:37:00    4986\n",
      "2017-07-06 03:38:00    4711\n",
      "2017-07-06 03:42:00    4647\n",
      "2017-07-06 03:33:00    4473\n",
      "                       ... \n",
      "2017-07-06 12:35:00      31\n",
      "2017-07-06 12:39:00      30\n",
      "2017-07-06 01:05:00      18\n",
      "2017-07-06 12:38:00      18\n",
      "2017-07-06 08:59:00       6\n",
      "Name: date, Length: 486, dtype: int64\n"
     ]
    }
   ],
   "source": [
    "print(ds2_label['date'].value_counts())"
   ]
  },
  {
   "cell_type": "code",
   "execution_count": 8,
   "metadata": {},
   "outputs": [
    {
     "data": {
      "text/plain": [
       "BENIGN                        456752\n",
       "Web Attack – Brute Force        1507\n",
       "Web Attack – XSS                 652\n",
       "Infiltration                      36\n",
       "Web Attack – Sql Injection        21\n",
       "Name:  Label, dtype: int64"
      ]
     },
     "execution_count": 8,
     "metadata": {},
     "output_type": "execute_result"
    }
   ],
   "source": [
    "ds2_label[' Label'].value_counts()"
   ]
  },
  {
   "cell_type": "code",
   "execution_count": 9,
   "metadata": {},
   "outputs": [],
   "source": [
    "ds2_label_plot=ds2_label[['date',' Label']]"
   ]
  },
  {
   "cell_type": "code",
   "execution_count": 10,
   "metadata": {},
   "outputs": [
    {
     "name": "stdout",
     "output_type": "stream",
     "text": [
      "                      date   Label\n",
      "0      2017-07-06 08:59:00  BENIGN\n",
      "1      2017-07-06 08:59:00  BENIGN\n",
      "2      2017-07-06 08:59:00  BENIGN\n",
      "3      2017-07-06 08:59:00  BENIGN\n",
      "4      2017-07-06 08:59:00  BENIGN\n",
      "...                    ...     ...\n",
      "458963 2017-07-06 05:04:00  BENIGN\n",
      "458964 2017-07-06 05:04:00  BENIGN\n",
      "458965 2017-07-06 05:04:00  BENIGN\n",
      "458966 2017-07-06 05:04:00  BENIGN\n",
      "458967 2017-07-06 05:04:00  BENIGN\n",
      "\n",
      "[458968 rows x 2 columns]\n"
     ]
    }
   ],
   "source": [
    "print(ds2_label_plot)"
   ]
  },
  {
   "cell_type": "code",
   "execution_count": 32,
   "metadata": {},
   "outputs": [
    {
     "name": "stderr",
     "output_type": "stream",
     "text": [
      "<ipython-input-32-456822cc2c08>:1: SettingWithCopyWarning: \n",
      "A value is trying to be set on a copy of a slice from a DataFrame.\n",
      "Try using .loc[row_indexer,col_indexer] = value instead\n",
      "\n",
      "See the caveats in the documentation: https://pandas.pydata.org/pandas-docs/stable/user_guide/indexing.html#returning-a-view-versus-a-copy\n",
      "  ds2_label_plot['label']=np.where(ds2_label_plot[' Label']!='BENIGN', 1, 0.25)\n"
     ]
    }
   ],
   "source": [
    "ds2_label_plot['label']=np.where(ds2_label_plot[' Label']!='BENIGN', 1, 0.25)"
   ]
  },
  {
   "cell_type": "code",
   "execution_count": 33,
   "metadata": {},
   "outputs": [
    {
     "name": "stdout",
     "output_type": "stream",
     "text": [
      "0.25    456752\n",
      "1.00      2216\n",
      "Name: label, dtype: int64\n"
     ]
    }
   ],
   "source": [
    "print(ds2_label_plot['label'].value_counts())"
   ]
  },
  {
   "cell_type": "code",
   "execution_count": 13,
   "metadata": {},
   "outputs": [
    {
     "name": "stderr",
     "output_type": "stream",
     "text": [
      "<ipython-input-13-520b24c821e3>:1: SettingWithCopyWarning: \n",
      "A value is trying to be set on a copy of a slice from a DataFrame.\n",
      "Try using .loc[row_indexer,col_indexer] = value instead\n",
      "\n",
      "See the caveats in the documentation: https://pandas.pydata.org/pandas-docs/stable/user_guide/indexing.html#returning-a-view-versus-a-copy\n",
      "  ds2_label_plot['snort_timestamp']=snort_ds2_2017['date']\n",
      "<ipython-input-13-520b24c821e3>:2: SettingWithCopyWarning: \n",
      "A value is trying to be set on a copy of a slice from a DataFrame.\n",
      "Try using .loc[row_indexer,col_indexer] = value instead\n",
      "\n",
      "See the caveats in the documentation: https://pandas.pydata.org/pandas-docs/stable/user_guide/indexing.html#returning-a-view-versus-a-copy\n",
      "  ds2_label_plot['suricata_timestamp']=suricata_ds2_2017['date']\n"
     ]
    }
   ],
   "source": [
    "ds2_label_plot['snort_timestamp']=snort_ds2_2017['date']\n",
    "ds2_label_plot['suricata_timestamp']=suricata_ds2_2017['date']"
   ]
  },
  {
   "cell_type": "code",
   "execution_count": 28,
   "metadata": {},
   "outputs": [
    {
     "name": "stdout",
     "output_type": "stream",
     "text": [
      "                      date   Label  label snort_timestamp suricata_timestamp  \\\n",
      "150813 2017-07-06 11:59:00  BENIGN      0             NaN                NaN   \n",
      "150814 2017-07-06 12:00:00  BENIGN      0             NaN                NaN   \n",
      "150815 2017-07-06 12:00:00  BENIGN      0             NaN                NaN   \n",
      "\n",
      "         p  \n",
      "150813  AM  \n",
      "150814  PM  \n",
      "150815  PM  \n"
     ]
    }
   ],
   "source": [
    "print(ds2_label_plot[150813:150816])"
   ]
  },
  {
   "cell_type": "code",
   "execution_count": 21,
   "metadata": {},
   "outputs": [
    {
     "data": {
      "text/plain": [
       "0        2017-07-06 08:59:00\n",
       "1        2017-07-06 08:59:00\n",
       "2        2017-07-06 08:59:00\n",
       "3        2017-07-06 08:59:00\n",
       "4        2017-07-06 08:59:00\n",
       "                 ...        \n",
       "458963   2017-07-06 05:04:00\n",
       "458964   2017-07-06 05:04:00\n",
       "458965   2017-07-06 05:04:00\n",
       "458966   2017-07-06 05:04:00\n",
       "458967   2017-07-06 05:04:00\n",
       "Name: date, Length: 458968, dtype: datetime64[ns]"
      ]
     },
     "execution_count": 21,
     "metadata": {},
     "output_type": "execute_result"
    }
   ],
   "source": [
    "ds2_label_plot['date']"
   ]
  },
  {
   "cell_type": "code",
   "execution_count": 25,
   "metadata": {},
   "outputs": [
    {
     "name": "stderr",
     "output_type": "stream",
     "text": [
      "<ipython-input-25-9d33f11426c6>:1: SettingWithCopyWarning: \n",
      "A value is trying to be set on a copy of a slice from a DataFrame.\n",
      "Try using .loc[row_indexer,col_indexer] = value instead\n",
      "\n",
      "See the caveats in the documentation: https://pandas.pydata.org/pandas-docs/stable/user_guide/indexing.html#returning-a-view-versus-a-copy\n",
      "  ds2_label_plot['p']=np.where(ds2_label_plot.index<=150813, \"AM\",\"PM\")\n"
     ]
    }
   ],
   "source": [
    "ds2_label_plot['p']=np.where(ds2_label_plot.index<=150813, \"AM\",\"PM\")"
   ]
  },
  {
   "cell_type": "code",
   "execution_count": 27,
   "metadata": {},
   "outputs": [
    {
     "data": {
      "text/plain": [
       "0         AM\n",
       "1         AM\n",
       "2         AM\n",
       "3         AM\n",
       "4         AM\n",
       "          ..\n",
       "458963    PM\n",
       "458964    PM\n",
       "458965    PM\n",
       "458966    PM\n",
       "458967    PM\n",
       "Name: p, Length: 458968, dtype: object"
      ]
     },
     "execution_count": 27,
     "metadata": {},
     "output_type": "execute_result"
    }
   ],
   "source": [
    "ds2_label_plot['p']"
   ]
  },
  {
   "cell_type": "code",
   "execution_count": 29,
   "metadata": {},
   "outputs": [
    {
     "name": "stderr",
     "output_type": "stream",
     "text": [
      "<ipython-input-29-82f82f545177>:1: SettingWithCopyWarning: \n",
      "A value is trying to be set on a copy of a slice from a DataFrame.\n",
      "Try using .loc[row_indexer,col_indexer] = value instead\n",
      "\n",
      "See the caveats in the documentation: https://pandas.pydata.org/pandas-docs/stable/user_guide/indexing.html#returning-a-view-versus-a-copy\n",
      "  ds2_label_plot['label_timestamp']=ds2_label_plot['date'].astype(str)+\" \"+ds2_label_plot['p']\n"
     ]
    }
   ],
   "source": [
    "ds2_label_plot['label_timestamp']=ds2_label_plot['date'].astype(str)+\" \"+ds2_label_plot['p']"
   ]
  },
  {
   "cell_type": "code",
   "execution_count": 34,
   "metadata": {},
   "outputs": [
    {
     "data": {
      "text/html": [
       "<div>\n",
       "<style scoped>\n",
       "    .dataframe tbody tr th:only-of-type {\n",
       "        vertical-align: middle;\n",
       "    }\n",
       "\n",
       "    .dataframe tbody tr th {\n",
       "        vertical-align: top;\n",
       "    }\n",
       "\n",
       "    .dataframe thead th {\n",
       "        text-align: right;\n",
       "    }\n",
       "</style>\n",
       "<table border=\"1\" class=\"dataframe\">\n",
       "  <thead>\n",
       "    <tr style=\"text-align: right;\">\n",
       "      <th></th>\n",
       "      <th>date</th>\n",
       "      <th>Label</th>\n",
       "      <th>label</th>\n",
       "      <th>snort_timestamp</th>\n",
       "      <th>suricata_timestamp</th>\n",
       "      <th>p</th>\n",
       "      <th>label_timestamp</th>\n",
       "    </tr>\n",
       "  </thead>\n",
       "  <tbody>\n",
       "    <tr>\n",
       "      <th>0</th>\n",
       "      <td>2017-07-06 08:59:00</td>\n",
       "      <td>BENIGN</td>\n",
       "      <td>0.25</td>\n",
       "      <td>2017-07-06 12:00:43</td>\n",
       "      <td>2017-07-06 12:01:02</td>\n",
       "      <td>AM</td>\n",
       "      <td>2017-07-06 08:59:00 AM</td>\n",
       "    </tr>\n",
       "    <tr>\n",
       "      <th>1</th>\n",
       "      <td>2017-07-06 08:59:00</td>\n",
       "      <td>BENIGN</td>\n",
       "      <td>0.25</td>\n",
       "      <td>2017-07-06 12:00:43</td>\n",
       "      <td>2017-07-06 12:01:38</td>\n",
       "      <td>AM</td>\n",
       "      <td>2017-07-06 08:59:00 AM</td>\n",
       "    </tr>\n",
       "    <tr>\n",
       "      <th>2</th>\n",
       "      <td>2017-07-06 08:59:00</td>\n",
       "      <td>BENIGN</td>\n",
       "      <td>0.25</td>\n",
       "      <td>2017-07-06 12:00:43</td>\n",
       "      <td>2017-07-06 12:05:42</td>\n",
       "      <td>AM</td>\n",
       "      <td>2017-07-06 08:59:00 AM</td>\n",
       "    </tr>\n",
       "    <tr>\n",
       "      <th>3</th>\n",
       "      <td>2017-07-06 08:59:00</td>\n",
       "      <td>BENIGN</td>\n",
       "      <td>0.25</td>\n",
       "      <td>2017-07-06 12:00:43</td>\n",
       "      <td>2017-07-06 12:09:04</td>\n",
       "      <td>AM</td>\n",
       "      <td>2017-07-06 08:59:00 AM</td>\n",
       "    </tr>\n",
       "    <tr>\n",
       "      <th>4</th>\n",
       "      <td>2017-07-06 08:59:00</td>\n",
       "      <td>BENIGN</td>\n",
       "      <td>0.25</td>\n",
       "      <td>2017-07-06 12:00:44</td>\n",
       "      <td>2017-07-06 12:09:04</td>\n",
       "      <td>AM</td>\n",
       "      <td>2017-07-06 08:59:00 AM</td>\n",
       "    </tr>\n",
       "    <tr>\n",
       "      <th>...</th>\n",
       "      <td>...</td>\n",
       "      <td>...</td>\n",
       "      <td>...</td>\n",
       "      <td>...</td>\n",
       "      <td>...</td>\n",
       "      <td>...</td>\n",
       "      <td>...</td>\n",
       "    </tr>\n",
       "    <tr>\n",
       "      <th>458963</th>\n",
       "      <td>2017-07-06 05:04:00</td>\n",
       "      <td>BENIGN</td>\n",
       "      <td>0.25</td>\n",
       "      <td>NaN</td>\n",
       "      <td>NaN</td>\n",
       "      <td>PM</td>\n",
       "      <td>2017-07-06 05:04:00 PM</td>\n",
       "    </tr>\n",
       "    <tr>\n",
       "      <th>458964</th>\n",
       "      <td>2017-07-06 05:04:00</td>\n",
       "      <td>BENIGN</td>\n",
       "      <td>0.25</td>\n",
       "      <td>NaN</td>\n",
       "      <td>NaN</td>\n",
       "      <td>PM</td>\n",
       "      <td>2017-07-06 05:04:00 PM</td>\n",
       "    </tr>\n",
       "    <tr>\n",
       "      <th>458965</th>\n",
       "      <td>2017-07-06 05:04:00</td>\n",
       "      <td>BENIGN</td>\n",
       "      <td>0.25</td>\n",
       "      <td>NaN</td>\n",
       "      <td>NaN</td>\n",
       "      <td>PM</td>\n",
       "      <td>2017-07-06 05:04:00 PM</td>\n",
       "    </tr>\n",
       "    <tr>\n",
       "      <th>458966</th>\n",
       "      <td>2017-07-06 05:04:00</td>\n",
       "      <td>BENIGN</td>\n",
       "      <td>0.25</td>\n",
       "      <td>NaN</td>\n",
       "      <td>NaN</td>\n",
       "      <td>PM</td>\n",
       "      <td>2017-07-06 05:04:00 PM</td>\n",
       "    </tr>\n",
       "    <tr>\n",
       "      <th>458967</th>\n",
       "      <td>2017-07-06 05:04:00</td>\n",
       "      <td>BENIGN</td>\n",
       "      <td>0.25</td>\n",
       "      <td>NaN</td>\n",
       "      <td>NaN</td>\n",
       "      <td>PM</td>\n",
       "      <td>2017-07-06 05:04:00 PM</td>\n",
       "    </tr>\n",
       "  </tbody>\n",
       "</table>\n",
       "<p>458968 rows × 7 columns</p>\n",
       "</div>"
      ],
      "text/plain": [
       "                      date   Label  label      snort_timestamp  \\\n",
       "0      2017-07-06 08:59:00  BENIGN   0.25  2017-07-06 12:00:43   \n",
       "1      2017-07-06 08:59:00  BENIGN   0.25  2017-07-06 12:00:43   \n",
       "2      2017-07-06 08:59:00  BENIGN   0.25  2017-07-06 12:00:43   \n",
       "3      2017-07-06 08:59:00  BENIGN   0.25  2017-07-06 12:00:43   \n",
       "4      2017-07-06 08:59:00  BENIGN   0.25  2017-07-06 12:00:44   \n",
       "...                    ...     ...    ...                  ...   \n",
       "458963 2017-07-06 05:04:00  BENIGN   0.25                  NaN   \n",
       "458964 2017-07-06 05:04:00  BENIGN   0.25                  NaN   \n",
       "458965 2017-07-06 05:04:00  BENIGN   0.25                  NaN   \n",
       "458966 2017-07-06 05:04:00  BENIGN   0.25                  NaN   \n",
       "458967 2017-07-06 05:04:00  BENIGN   0.25                  NaN   \n",
       "\n",
       "         suricata_timestamp   p         label_timestamp  \n",
       "0       2017-07-06 12:01:02  AM  2017-07-06 08:59:00 AM  \n",
       "1       2017-07-06 12:01:38  AM  2017-07-06 08:59:00 AM  \n",
       "2       2017-07-06 12:05:42  AM  2017-07-06 08:59:00 AM  \n",
       "3       2017-07-06 12:09:04  AM  2017-07-06 08:59:00 AM  \n",
       "4       2017-07-06 12:09:04  AM  2017-07-06 08:59:00 AM  \n",
       "...                     ...  ..                     ...  \n",
       "458963                  NaN  PM  2017-07-06 05:04:00 PM  \n",
       "458964                  NaN  PM  2017-07-06 05:04:00 PM  \n",
       "458965                  NaN  PM  2017-07-06 05:04:00 PM  \n",
       "458966                  NaN  PM  2017-07-06 05:04:00 PM  \n",
       "458967                  NaN  PM  2017-07-06 05:04:00 PM  \n",
       "\n",
       "[458968 rows x 7 columns]"
      ]
     },
     "execution_count": 34,
     "metadata": {},
     "output_type": "execute_result"
    }
   ],
   "source": [
    "ds2_label_plot"
   ]
  },
  {
   "cell_type": "code",
   "execution_count": 35,
   "metadata": {},
   "outputs": [],
   "source": [
    "ds2_label_plot.to_csv('/home/exp-1/Desktop/data/timestamp_plot/ds2_label_plot.csv', index=False)"
   ]
  },
  {
   "cell_type": "code",
   "execution_count": null,
   "metadata": {},
   "outputs": [],
   "source": []
  },
  {
   "cell_type": "code",
   "execution_count": null,
   "metadata": {},
   "outputs": [],
   "source": []
  }
 ],
 "metadata": {
  "kernelspec": {
   "display_name": "Python 3",
   "language": "python",
   "name": "python3"
  },
  "language_info": {
   "codemirror_mode": {
    "name": "ipython",
    "version": 3
   },
   "file_extension": ".py",
   "mimetype": "text/x-python",
   "name": "python",
   "nbconvert_exporter": "python",
   "pygments_lexer": "ipython3",
   "version": "3.8.10"
  }
 },
 "nbformat": 4,
 "nbformat_minor": 4
}
