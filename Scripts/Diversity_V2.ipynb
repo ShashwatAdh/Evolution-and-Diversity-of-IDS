{
 "cells": [
  {
   "cell_type": "code",
   "execution_count": 2,
   "metadata": {},
   "outputs": [],
   "source": [
    "import pandas as pd\n",
    "#import json\n",
    "import numpy as np\n",
    "import matplotlib.pyplot as plt\n",
    "from matplotlib_venn import venn2"
   ]
  },
  {
   "cell_type": "code",
   "execution_count": 4,
   "metadata": {},
   "outputs": [],
   "source": [
    "ds2_alerts=pd.read_csv('/home/exp-1/Desktop/data/Alerts/Alerts_csv/snort_ds2/snort_ds2_2017.csv')\n",
    "ds3_alerts=pd.read_csv('/home/exp-1/Desktop/data/Alerts/Alerts_csv/snort_ds3/snort_ds3_2017.csv')\n",
    "ds2_alerts_2=pd.read_csv('/home/exp-1/Desktop/data/Alerts/Alerts_csv/suricata_ds2/suricata_ds2_2017.csv')\n",
    "ds3_alerts_2=pd.read_csv('/home/exp-1/Desktop/data/Alerts/Alerts_csv/suricata_ds3/suricata_ds3_2017.csv')"
   ]
  },
  {
   "cell_type": "code",
   "execution_count": 5,
   "metadata": {},
   "outputs": [],
   "source": [
    "#df_alerts_2['dates']=pd.to_datetime(df_alerts_2['timestamp'])\n",
    "#df_alerts_2['dates'] = df_alerts_2['dates'].map(lambda x: str(x)[:-13])"
   ]
  },
  {
   "cell_type": "code",
   "execution_count": null,
   "metadata": {},
   "outputs": [],
   "source": []
  },
  {
   "cell_type": "code",
   "execution_count": null,
   "metadata": {},
   "outputs": [],
   "source": []
  },
  {
   "cell_type": "code",
   "execution_count": null,
   "metadata": {},
   "outputs": [],
   "source": []
  },
  {
   "cell_type": "code",
   "execution_count": 15,
   "metadata": {},
   "outputs": [],
   "source": [
    "ds2_test_1=pd.DataFrame()\n",
    "ds2_test_2=pd.DataFrame()\n",
    "ds3_test_1=pd.DataFrame()\n",
    "ds3_test_2=pd.DataFrame()"
   ]
  },
  {
   "cell_type": "code",
   "execution_count": null,
   "metadata": {},
   "outputs": [],
   "source": []
  },
  {
   "cell_type": "code",
   "execution_count": 16,
   "metadata": {},
   "outputs": [],
   "source": [
    "ds2_test_1['timestamp'] = ds2_alerts['date'].astype(str)\n",
    "ds3_test_1['timestamp'] = ds3_alerts['date'].astype(str)\n",
    "ds2_test_2['timestamp'] = ds2_alerts_2['date'].astype(str)\n",
    "ds3_test_2['timestamp'] = ds3_alerts_2['date'].astype(str)"
   ]
  },
  {
   "cell_type": "code",
   "execution_count": 31,
   "metadata": {},
   "outputs": [],
   "source": [
    "ds2_test_1['src_ip'] = ds2_alerts['event.source-ip']\n",
    "ds3_test_1['src_ip'] = ds3_alerts['event.source-ip']\n",
    "ds2_test_2['src_ip'] = ds2_alerts_2['src_ip']\n",
    "ds3_test_2['src_ip'] = ds3_alerts_2['src_ip']"
   ]
  },
  {
   "cell_type": "code",
   "execution_count": 18,
   "metadata": {},
   "outputs": [],
   "source": [
    "ds2_test_1['dest_ip'] = ds2_alerts['event.destination-ip']\n",
    "ds3_test_1['dest_ip'] = ds3_alerts['event.destination-ip']\n",
    "ds2_test_2['dest_ip'] = ds2_alerts_2['dest_ip']\n",
    "ds3_test_2['dest_ip'] = ds3_alerts_2['dest_ip']"
   ]
  },
  {
   "cell_type": "code",
   "execution_count": 19,
   "metadata": {},
   "outputs": [],
   "source": [
    "ds2_test_1['src_port'] = ds2_alerts['event.sport-itype'].astype(int).astype(str)\n",
    "ds3_test_1['src_port'] = ds3_alerts['event.sport-itype'].astype(int).astype(str)\n",
    "ds2_test_2['src_port'] = ds2_alerts_2['src_port'].astype(int).astype(str)\n",
    "ds3_test_2['src_port'] = ds3_alerts_2['src_port'].astype(int).astype(str)"
   ]
  },
  {
   "cell_type": "code",
   "execution_count": 20,
   "metadata": {},
   "outputs": [],
   "source": [
    "ds2_test_1['dest_port'] = ds2_alerts['event.dport-icode'].astype(int).astype(str)\n",
    "ds3_test_1['dest_port'] = ds3_alerts['event.dport-icode'].astype(int).astype(str)\n",
    "ds2_test_2['dest_port'] = ds2_alerts_2['dest_port'].astype(int).astype(str)\n",
    "ds3_test_2['dest_port'] = ds3_alerts_2['dest_port'].astype(int).astype(str)"
   ]
  },
  {
   "cell_type": "code",
   "execution_count": 61,
   "metadata": {},
   "outputs": [],
   "source": [
    "ds2_test_1['positives']=ds2_alerts['positives']\n",
    "ds3_test_1['positives']=ds3_alerts['positives']\n",
    "ds2_test_2['positives']=ds2_alerts_2['positives']\n",
    "ds3_test_2['positives']=ds3_alerts_2['positives']"
   ]
  },
  {
   "cell_type": "code",
   "execution_count": null,
   "metadata": {},
   "outputs": [],
   "source": []
  },
  {
   "cell_type": "code",
   "execution_count": null,
   "metadata": {},
   "outputs": [],
   "source": []
  },
  {
   "cell_type": "code",
   "execution_count": 23,
   "metadata": {},
   "outputs": [
    {
     "data": {
      "text/plain": [
       "False    28420\n",
       "True      1489\n",
       "Name: timestamp, dtype: int64"
      ]
     },
     "execution_count": 23,
     "metadata": {},
     "output_type": "execute_result"
    }
   ],
   "source": [
    "ds2_test_1['timestamp'].isin(ds2_test_2['timestamp']).value_counts()"
   ]
  },
  {
   "cell_type": "code",
   "execution_count": null,
   "metadata": {},
   "outputs": [],
   "source": []
  },
  {
   "cell_type": "code",
   "execution_count": 50,
   "metadata": {},
   "outputs": [
    {
     "data": {
      "text/plain": [
       "False    15316\n",
       "True     14593\n",
       "Name: src_ip, dtype: int64"
      ]
     },
     "execution_count": 50,
     "metadata": {},
     "output_type": "execute_result"
    }
   ],
   "source": [
    "ds2_test_1['src_ip'].isin(ds2_test_2['src_ip']).value_counts()"
   ]
  },
  {
   "cell_type": "code",
   "execution_count": null,
   "metadata": {},
   "outputs": [],
   "source": []
  },
  {
   "cell_type": "code",
   "execution_count": 26,
   "metadata": {},
   "outputs": [
    {
     "data": {
      "text/plain": [
       "False    17061\n",
       "True     12848\n",
       "Name: dest_ip, dtype: int64"
      ]
     },
     "execution_count": 26,
     "metadata": {},
     "output_type": "execute_result"
    }
   ],
   "source": [
    "ds2_test_1['dest_ip'].isin(ds2_test_2['dest_ip']).value_counts()"
   ]
  },
  {
   "cell_type": "code",
   "execution_count": null,
   "metadata": {},
   "outputs": [],
   "source": []
  },
  {
   "cell_type": "code",
   "execution_count": 27,
   "metadata": {},
   "outputs": [
    {
     "data": {
      "text/plain": [
       "False    22589\n",
       "True      7320\n",
       "Name: src_port, dtype: int64"
      ]
     },
     "execution_count": 27,
     "metadata": {},
     "output_type": "execute_result"
    }
   ],
   "source": [
    "ds2_test_1['src_port'].isin(ds2_test_2['src_port']).value_counts()"
   ]
  },
  {
   "cell_type": "code",
   "execution_count": null,
   "metadata": {},
   "outputs": [],
   "source": []
  },
  {
   "cell_type": "code",
   "execution_count": 28,
   "metadata": {},
   "outputs": [
    {
     "data": {
      "text/plain": [
       "False    19007\n",
       "True     10902\n",
       "Name: dest_port, dtype: int64"
      ]
     },
     "execution_count": 28,
     "metadata": {},
     "output_type": "execute_result"
    }
   ],
   "source": [
    "ds2_test_1['dest_port'].isin(ds2_test_2['dest_port']).value_counts()"
   ]
  },
  {
   "cell_type": "code",
   "execution_count": null,
   "metadata": {},
   "outputs": [],
   "source": []
  },
  {
   "cell_type": "code",
   "execution_count": 41,
   "metadata": {},
   "outputs": [
    {
     "data": {
      "text/plain": [
       "0           88\n",
       "1           88\n",
       "2           88\n",
       "3           88\n",
       "4           88\n",
       "         ...  \n",
       "29904       80\n",
       "29905    51633\n",
       "29906    61245\n",
       "29907       80\n",
       "29908       80\n",
       "Name: src_port, Length: 29909, dtype: object"
      ]
     },
     "execution_count": 41,
     "metadata": {},
     "output_type": "execute_result"
    }
   ],
   "source": [
    "ds2_test_1['src_port']"
   ]
  },
  {
   "cell_type": "code",
   "execution_count": 42,
   "metadata": {},
   "outputs": [
    {
     "data": {
      "text/plain": [
       "0          123\n",
       "1           80\n",
       "2           80\n",
       "3        49332\n",
       "4        49333\n",
       "         ...  \n",
       "24110    61101\n",
       "24111     3478\n",
       "24112      443\n",
       "24113      123\n",
       "24114      443\n",
       "Name: src_port, Length: 24115, dtype: object"
      ]
     },
     "execution_count": 42,
     "metadata": {},
     "output_type": "execute_result"
    }
   ],
   "source": [
    "ds2_test_2['src_port']"
   ]
  },
  {
   "cell_type": "code",
   "execution_count": 39,
   "metadata": {},
   "outputs": [
    {
     "data": {
      "text/plain": [
       "True     287083\n",
       "False        99\n",
       "Name: timestamp, dtype: int64"
      ]
     },
     "execution_count": 39,
     "metadata": {},
     "output_type": "execute_result"
    }
   ],
   "source": [
    "ds3_test_1['timestamp'].isin(ds3_test_2['timestamp']).value_counts()"
   ]
  },
  {
   "cell_type": "code",
   "execution_count": null,
   "metadata": {},
   "outputs": [],
   "source": []
  },
  {
   "cell_type": "code",
   "execution_count": 33,
   "metadata": {},
   "outputs": [
    {
     "data": {
      "text/plain": [
       "True     284719\n",
       "False      2463\n",
       "Name: src_ip, dtype: int64"
      ]
     },
     "execution_count": 33,
     "metadata": {},
     "output_type": "execute_result"
    }
   ],
   "source": [
    "ds3_test_1['src_ip'].isin(ds3_test_2['src_ip']).value_counts()"
   ]
  },
  {
   "cell_type": "code",
   "execution_count": null,
   "metadata": {},
   "outputs": [],
   "source": []
  },
  {
   "cell_type": "code",
   "execution_count": 35,
   "metadata": {},
   "outputs": [
    {
     "data": {
      "text/plain": [
       "True    287182\n",
       "Name: dest_ip, dtype: int64"
      ]
     },
     "execution_count": 35,
     "metadata": {},
     "output_type": "execute_result"
    }
   ],
   "source": [
    "ds3_test_1['dest_ip'].isin(ds3_test_2['dest_ip']).value_counts()"
   ]
  },
  {
   "cell_type": "code",
   "execution_count": null,
   "metadata": {},
   "outputs": [],
   "source": []
  },
  {
   "cell_type": "code",
   "execution_count": 36,
   "metadata": {},
   "outputs": [
    {
     "data": {
      "text/plain": [
       "True     180022\n",
       "False    107160\n",
       "Name: src_port, dtype: int64"
      ]
     },
     "execution_count": 36,
     "metadata": {},
     "output_type": "execute_result"
    }
   ],
   "source": [
    "ds3_test_1['src_port'].isin(ds3_test_2['src_port']).value_counts()"
   ]
  },
  {
   "cell_type": "code",
   "execution_count": null,
   "metadata": {},
   "outputs": [],
   "source": []
  },
  {
   "cell_type": "code",
   "execution_count": 37,
   "metadata": {},
   "outputs": [
    {
     "data": {
      "text/plain": [
       "True     286925\n",
       "False       257\n",
       "Name: dest_port, dtype: int64"
      ]
     },
     "execution_count": 37,
     "metadata": {},
     "output_type": "execute_result"
    }
   ],
   "source": [
    "ds3_test_1['dest_port'].isin(ds3_test_2['src_port']).value_counts()"
   ]
  },
  {
   "cell_type": "code",
   "execution_count": null,
   "metadata": {},
   "outputs": [],
   "source": []
  },
  {
   "cell_type": "code",
   "execution_count": 54,
   "metadata": {},
   "outputs": [],
   "source": [
    "ds2_test_1['id']=ds2_test_1['src_ip']+'-'+ds2_test_1['dest_ip']\n",
    "ds2_test_2['id']=ds2_test_2['src_ip']+'-'+ds2_test_2['dest_ip']"
   ]
  },
  {
   "cell_type": "code",
   "execution_count": 55,
   "metadata": {},
   "outputs": [
    {
     "data": {
      "text/plain": [
       "False    29575\n",
       "True       334\n",
       "Name: id, dtype: int64"
      ]
     },
     "execution_count": 55,
     "metadata": {},
     "output_type": "execute_result"
    }
   ],
   "source": [
    "ds2_test_1['id'].isin(ds2_test_2['id']).value_counts()"
   ]
  },
  {
   "cell_type": "code",
   "execution_count": null,
   "metadata": {},
   "outputs": [],
   "source": []
  },
  {
   "cell_type": "code",
   "execution_count": 58,
   "metadata": {},
   "outputs": [],
   "source": [
    "ds3_test_1['id']=ds3_test_1['src_ip']+'-'+ds3_test_1['dest_ip']+'-'+ds3_test_1['timestamp']\n",
    "ds3_test_2['id']=ds3_test_2['src_ip']+'-'+ds3_test_2['dest_ip']+'-'+ds3_test_2['timestamp']"
   ]
  },
  {
   "cell_type": "code",
   "execution_count": 62,
   "metadata": {},
   "outputs": [],
   "source": [
    "ds3_test_1['common']=ds3_test_1['id'].isin(ds3_test_2['id'])"
   ]
  },
  {
   "cell_type": "code",
   "execution_count": 65,
   "metadata": {},
   "outputs": [
    {
     "data": {
      "text/plain": [
       "False    286893\n",
       "True        289\n",
       "dtype: int64"
      ]
     },
     "execution_count": 65,
     "metadata": {},
     "output_type": "execute_result"
    }
   ],
   "source": [
    "((ds3_test_1['common']==True)&ds3_test_1['positives']==True).value_counts()"
   ]
  },
  {
   "cell_type": "code",
   "execution_count": null,
   "metadata": {},
   "outputs": [],
   "source": []
  },
  {
   "cell_type": "code",
   "execution_count": null,
   "metadata": {},
   "outputs": [],
   "source": []
  },
  {
   "cell_type": "code",
   "execution_count": 32,
   "metadata": {},
   "outputs": [
    {
     "name": "stdout",
     "output_type": "stream",
     "text": [
      "12:15:18 to 22:11:25\n"
     ]
    }
   ],
   "source": [
    "print(str(pd.to_datetime(df_test_1['timestamp']).dt.time.min()) + ' to ' +str(pd.to_datetime(df_test_1['timestamp']).dt.time.max()))"
   ]
  },
  {
   "cell_type": "code",
   "execution_count": 33,
   "metadata": {},
   "outputs": [
    {
     "name": "stdout",
     "output_type": "stream",
     "text": [
      "04:15:14 to 14:13:00\n"
     ]
    }
   ],
   "source": [
    "print(str(pd.to_datetime(df_test_2['timestamp']).dt.time.min()) + ' to ' +str(pd.to_datetime(df_test_2['timestamp']).dt.time.max()))"
   ]
  },
  {
   "cell_type": "code",
   "execution_count": null,
   "metadata": {},
   "outputs": [],
   "source": []
  },
  {
   "cell_type": "code",
   "execution_count": 85,
   "metadata": {},
   "outputs": [],
   "source": [
    "#df_test_1.to_csv('/home/exp-1/Desktop/data/Diversity/test_1.csv')\n",
    "#df_test_2.to_csv('/home/exp-1/Desktop/data/Diversity/test_2.csv')\n"
   ]
  },
  {
   "cell_type": "code",
   "execution_count": 34,
   "metadata": {},
   "outputs": [
    {
     "data": {
      "text/plain": [
       "2018-02-22 15:49:54    19\n",
       "2018-02-22 15:49:58    16\n",
       "2018-02-22 12:23:28    16\n",
       "2018-02-22 15:18:24    16\n",
       "2018-02-22 12:26:00    16\n",
       "                       ..\n",
       "2018-02-23 15:48:44     1\n",
       "2018-02-23 15:47:57     1\n",
       "2018-02-23 15:47:38     1\n",
       "2018-02-23 15:47:28     1\n",
       "2018-02-23 22:10:46     1\n",
       "Name: timestamp, Length: 65805, dtype: int64"
      ]
     },
     "execution_count": 34,
     "metadata": {},
     "output_type": "execute_result"
    }
   ],
   "source": [
    "df_test_1['timestamp'].value_counts()\n"
   ]
  },
  {
   "cell_type": "code",
   "execution_count": 35,
   "metadata": {},
   "outputs": [
    {
     "data": {
      "text/plain": [
       "2018-02-23 13:31:29    83\n",
       "2018-02-23 13:31:47    81\n",
       "2018-02-23 13:34:17    73\n",
       "2018-02-22 10:46:29    71\n",
       "2018-02-23 05:35:39    64\n",
       "                       ..\n",
       "2018-02-23 13:44:32     1\n",
       "2018-02-23 13:44:33     1\n",
       "2018-02-23 13:44:37     1\n",
       "2018-02-22 13:53:11     1\n",
       "2018-02-22 13:58:05     1\n",
       "Name: timestamp, Length: 67302, dtype: int64"
      ]
     },
     "execution_count": 35,
     "metadata": {},
     "output_type": "execute_result"
    }
   ],
   "source": [
    "df_test_2['timestamp'].value_counts()"
   ]
  },
  {
   "cell_type": "code",
   "execution_count": null,
   "metadata": {},
   "outputs": [],
   "source": []
  },
  {
   "cell_type": "code",
   "execution_count": 42,
   "metadata": {},
   "outputs": [],
   "source": [
    "df_test_1.to_csv('/home/exp-1/Desktop/data/Plot/test_1.csv')"
   ]
  },
  {
   "cell_type": "code",
   "execution_count": 43,
   "metadata": {},
   "outputs": [],
   "source": [
    "df_test_2.to_csv('/home/exp-1/Desktop/data/Plot/test_2.csv')"
   ]
  },
  {
   "cell_type": "code",
   "execution_count": null,
   "metadata": {},
   "outputs": [],
   "source": []
  }
 ],
 "metadata": {
  "kernelspec": {
   "display_name": "Python 3",
   "language": "python",
   "name": "python3"
  },
  "language_info": {
   "codemirror_mode": {
    "name": "ipython",
    "version": 3
   },
   "file_extension": ".py",
   "mimetype": "text/x-python",
   "name": "python",
   "nbconvert_exporter": "python",
   "pygments_lexer": "ipython3",
   "version": "3.8.10"
  }
 },
 "nbformat": 4,
 "nbformat_minor": 4
}
